{
 "cells": [
  {
   "cell_type": "markdown",
   "id": "914ab4d6",
   "metadata": {},
   "source": [
    "## Baysian Problems\n",
    "\n",
    "<br>\n",
    "University of Miami\n",
    "<br>\n",
    "REU summer 2022\n",
    "<br>\n",
    "Burton Rosenberg.\n",
    "<br>\n",
    "<br>last update: May 27, 2022"
   ]
  },
  {
   "cell_type": "markdown",
   "id": "810dff42",
   "metadata": {},
   "source": [
    "\n",
    "### Bayesian Statistics\n",
    "\n",
    "This draws heavily from [Think Bayes](https://greenteapress.com/wp/think-bayes/) by Allen Downey. The code is from that book. A selection of similar problems are found on Prof. Downey's [All your Bayes are belong to us!](https://allendowney.blogspot.com/2011/10/all-your-bayes-are-belong-to-us.html) post and his [Blinky Monty Problem](https://allendowney.blogspot.com/2011/10/blinky-monty-problem.html) post.\n",
    "\n",
    "The idea of Bayesian Statistics is probability understod as an expression of belief,\n",
    "\n",
    "> In Baysian statistics, probably is analogous to belief. The higher the probablity the more one believes that the event is the case. It is the probability of the Weather Channel. Tomorrow will occur and it will occur only once &mdash; to say _\"50 out of 100 times it was March 22nd, 2019,  it rained\"_ makes no sense.\n",
    "\n",
    "The mantra of Bayesnian statistics is that the subjectivity is captured in the _prior_. But once that subjectivity is accounted for, the rest is objective. Data will update that prior by providing supporting or refuting evidence, and the posterior probability reflects the rational person's belief, given the prior and the evidence.\n",
    "\n",
    "Bayes Law calculates the new belief that <code>H<sub>i</sub></code> is the case given the prior of the probability of <code>H<sub>i</sub></code> and the occurence of event <code>D</code>,\n",
    "\n",
    "> <code>P(H<sub>i</sub>|D) P(D) = P(D|H<sub>i</sub>) P(H<sub>i</sub>)</code>\n",
    "\n",
    "the symbol <code>P(D|H<sub>i</sub>)</code> is called the _likelihood_. The value P(H<sub>i</sub>) is given, and typically the likelihood P(D|H<sub>i</sub>)  is easy to calculate. Of the hypothesis are constructed a certain way,  the probability <code>P(D)</code> can be easily calculated as well. \n",
    "\n",
    "If the <code>H<sub>i</sub></code> are mutually exclusive and collectively exhaustive, then <code>P(H<sub>i</sub>|D)</code> will sum to 1, hence\n",
    "\n",
    "> <code>1 = Sum<sub>i</sub> P(D|H<sub>i</sub>) P(H<sub>i</sub>)/ P(D),</code> \n",
    "\n",
    "so\n",
    "\n",
    "> <code>P(D) = Sum<sub>i</sub> P(D|H<sub>i</sub>) P(H<sub>i</sub>)</code>.\n",
    "\n",
    "This is also known as the [Law of Total Probability](https://en.wikipedia.org/wiki/Law_of_total_probability).\n",
    "\n",
    "So here is the method,\n",
    "\n",
    "1. Starting with the probability vector <code>P(H<sub>i</sub>)</code>, either totall a priori or for the last update iteration,\n",
    "1. Given observation <code>D</code> update each element of the vector by the likelihood of event `D` under hypothesis <code>H<sub>i</sub></code>.\n",
    "1. Normalize the vector (this implicitly calculates `P(D)`).\n",
    "1. After all observations (or at any point in the observation suite) make a decision based on the current values of the probability vector <code>P(H<sub>i</sub>)</code>.\n"
   ]
  },
  {
   "cell_type": "markdown",
   "id": "4053b6f0",
   "metadata": {},
   "source": [
    "## The M&M Problem\n",
    "\n",
    "Solve the M&M Problem as given in Allen Downey, Think Bayes, [Section 1.6](http://www.greenteapress.com/thinkbayes/html/thinkbayes002.html#sec14).\n",
    "\n",
    "The M&M problem is the problem of deciding the manufacturing year of a bag of M&M's: given two bags of M&M, one from 1994 and one from 1996, but it is unknown which is the '94 and which is the '96.\n",
    "\n",
    "Between those two years, an M&M bag had different distributions of colors. So by drawing a sample M&M randomly from each bag, there might be a hint as to which bag came from which year.\n",
    "\n",
    "In the extreme, because blue M&M's were introduced in 1995, if a blue was drawn from a bag, then we are certain of which bag was from '94 and which from '95. In less extreme situations we will need to calculate the advantage, if there is any, from the M&M drawing experiment.\n",
    "\n",
    "__The hypthotheses__\n",
    "\n",
    "The problem is to assert either H_1 or H_2, where H_1 is that the first bag is from '94 and the second from '96, and H_2 that the first bag is from '96 and the second from '94.\n",
    "\n",
    "__A priori__\n",
    "\n",
    "Because the bags are assigned to be the first or the second at random, the a priori probability distribution is P(H_1) = P(H_2) = 1/2.\n",
    "\n",
    "__The experiment__\n",
    "\n",
    "Here are the distribution of colors for the two years, \n",
    "\n",
    "| color | 1994 | 1996 |\n",
    "|-------|------|------|\n",
    "| brown |  .3 | .13 |\n",
    "| yellow|  .2    | .14 |\n",
    "| red | .2 | .13 |\n",
    "| green | .1 | .20 |\n",
    "| orange | .1 |  .16 |\n",
    "| tan | .1 | 0 |\n",
    "| blue | 0 | .24 |\n",
    "\n",
    "Let D represent the outcome of the experiment, an event. An example of an event is \"a yellow was drawn from the first bag, and a green was drawn from the second bag\".\n",
    "\n",
    "We can calculate P(D|H_i) for either hypothesis from the above table and the assumption that the draws were independent. In the case given, \n",
    "\n",
    "> P(D|H_1) = P(yellow from a 1994 bag) P(green from a 1996) = (.2)(.2) = .04\n",
    "\n",
    "and\n",
    "\n",
    "> P(D|H_2) = P(yellow from a 1996 bag) P(blue from a 1994) = (.14)(.1) = .014\n",
    "\n",
    "\n",
    "__A Posteriori__\n",
    "\n",
    "Bayes Law is crucial (and from where Bayesian Statistics gets the name). It says:\n",
    "\n",
    "> P(H_i|D) = P(D|H_i) P(H_i) / P(D)\n",
    "\n",
    "P(H_i) is called the prior; P(H_i|D) the posterior; and P(D|H_i) the likelihood.\n",
    "\n",
    "The calculation of P(D) is possible given the two likelihoods using the law of total probability, given that H_1 and H_2 are mutually exclusive and mutually exhaustive (all cases of the world are exactly either H_1 or H_2, not neither, not both).\n",
    "\n",
    "> P(D) = P(D|H_1) P(H_1) + P(D|H_2) P(H_2) = (.04)(.5) + (.014)(.5) = .027\n",
    "\n",
    "so, \n",
    "\n",
    "> P(H_1|D) = (.04)(.5)/(.027) = .74\n",
    "\n",
    "> P(H_2|D) = (.014)(.5)/(.027) = .26\n",
    "\n",
    "__Conclusion__\n",
    "\n",
    "H_1 is three times more likely than H_2. If one had to guess, then H_1 is correct &mdash; the first bag\n",
    "is from 1994. (Does this make sense?)\n",
    "\n"
   ]
  },
  {
   "cell_type": "markdown",
   "id": "eff87be3",
   "metadata": {},
   "source": [
    "## Exercise M and M's\n"
   ]
  },
  {
   "cell_type": "code",
   "execution_count": 1,
   "id": "f1fb8b95",
   "metadata": {},
   "outputs": [
    {
     "name": "stdout",
     "output_type": "stream",
     "text": [
      "the result should be |h1: 0.7407, h2: 0.2593|\n",
      "h1: 0.0000, h2: 0.0000\n",
      "the result should be |h1: 0.0000, h2: 1.0000|\n",
      "h1: 0.0000, h2: 0.0000\n"
     ]
    }
   ],
   "source": [
    "class MandM:\n",
    "    \n",
    "    def __init__(self,dist_1994,dist_1996):\n",
    "        self.d94 = dist_1994\n",
    "        self.d96 = dist_1996\n",
    "        self.prior = {'h1':0.5,'h2':0.5}\n",
    "        \n",
    "    def set_apriori(self):\n",
    "        self.prior = {'h1':0.5,'h2':0.5}\n",
    "        \n",
    "    def likelihood(self, color_bag1, color_bag2):\n",
    "        # returns the pair (P(D|H_1), P(D|H_2))\n",
    "        \n",
    "        likelihood_h1 = 0  # what is the likelihood of the given colors under H_1\n",
    "        likelihood_h2 = 0  # what is the likelihood of the given colors under H_2\n",
    "        return (likelihood_h1,likelihood_h2)\n",
    "    \n",
    "    def total_prob(self,likelihood):\n",
    "        # given the pair (P(D|H_1), P(D|H_2)), \n",
    "        # return P(D) under the current prior distribution (self.prior)\n",
    "        \n",
    "        p_d = 1.0  # what is P(D) given the likelihood vectore and the current prior\n",
    "        return p_d\n",
    "    \n",
    "    def posterior(self,likelihood):\n",
    "        # given the lieklihoods (P(D|H_1), P(D|H_2)),\n",
    "        # returns the posterior probability distribution (P(H_1),P(H_2)) (post hoc)\n",
    "        # under the current prior distribution (self.prior)\n",
    "        \n",
    "        post_h1 = 0  # what is the new probability of H_1, given the likelihood\n",
    "        post_h2 = 0  # what is the new probability of H_1, given the likelihood\n",
    "        return (post_h1,post_h2)\n",
    "    \n",
    "    def experiment(self,color_bag1, color_bag2):\n",
    "        likelihood = self.likelihood(color_bag1, color_bag2)\n",
    "        posterior = self.posterior(likelihood)\n",
    "        self.prior = {'h1':posterior[0], 'h2':posterior[1]}\n",
    "        return self.decision()\n",
    "    \n",
    "    def decision(self):\n",
    "        # maximum likelihood decision criteria\n",
    "        \n",
    "        if self.prior['h1']>=self.prior['h2']:\n",
    "            return 'h1'\n",
    "        return 'h2'\n",
    "    \n",
    "    def __repr__(self):\n",
    "        return f'h1: {self.prior[\"h1\"]:.4f}, h2: {self.prior[\"h2\"]:.4f}'\n",
    "    \n",
    "\n",
    "dist_1994 = {'brown':.3, 'yellow':.2, 'red':.2, 'green':.1, 'orange':.1, 'tan':.1, 'blue':0}\n",
    "dist_1996 = {'brown':.13, 'yellow':.14, 'red':.13, 'green':.2, 'orange':.16, 'tan':0, 'blue':.24}\n",
    "\n",
    "# test 1\n",
    "\n",
    "print(f'the result should be |h1: 0.7407, h2: 0.2593|')\n",
    "mandm = MandM(dist_1994,dist_1996)\n",
    "mandm.experiment('yellow','green')\n",
    "print(mandm)\n",
    "\n",
    "# test 2\n",
    "\n",
    "print(f'the result should be |h1: 0.0000, h2: 1.0000|')\n",
    "mandm.set_apriori()\n",
    "mandm.experiment('blue','yellow')\n",
    "print(mandm)"
   ]
  },
  {
   "cell_type": "markdown",
   "id": "7eec8b0d",
   "metadata": {},
   "source": [
    "\n",
    "## The Train Problem\n",
    "\n",
    "We want to estimate the number of trains owned by a certain railroad company, given the observation of trains, and the train number. We know that the company numbers its trains consecutively starting with one. If we observe train 60, for instance, then we know that company owns at least 60 trains. We make several measurements and then provide a guess as to how many trains we haven't seen.\n",
    "\n",
    "In this problem we assume that any possible train is just as likely to pass by. Hence if the hypothesis is that the company runs `h` trains, the likelihood to see train `m` is `1/h`, independent of `m`.\n",
    "\n",
    "We keep a probability distribution over all hypothesis, and with each observation we update this distribution, by applying the likelihood that that train would be observed under that hypothesis.\n",
    "\n",
    "This problem considers two priors. One prior is a _uniform distribution_ over a range from 1 to n. That is, we assume there are some number of trains, but never more than n, and we have no preference for one number of trains compared to another.  This results in some answer. However, things being what they are, it seems silly to think that there is a magic n, and all train companies choose a number uniformly between 1 and n, and that's the number of trains they run. \n",
    "\n",
    "We will consider other prior's later on.\n",
    "\n",
    "__Hypothesis__\n",
    "\n",
    "For a given n, the hypothesis are H_i for i=1 through n, the probability that the train company owns i trains.\n",
    "\n",
    "__A priori__\n",
    "\n",
    "We declare that H_i = 1/n. Of all possibilities, we are indifferent to how many trains the company might own.\n",
    "\n",
    "__The Experiment__\n",
    "\n",
    "And even D is of the form \"train j was seen\". Write this as D=j. The formula for the likelihood \n",
    "gives two cases,\n",
    "\n",
    "> If j &gt; i, P( D=j | H_i ) = 0. This is impossible.\n",
    "\n",
    "> If i &ge; j, P( D=j | H_i ) = 1/i. Any of the trains is equally likely.\n",
    "\n",
    "__The posterior__\n",
    "\n",
    "To calculate P(D), needed for Bayes, the formula would be, \n",
    "\n",
    "> P(D) sum_i P( D=j | H_i) P(H_i)\n",
    "\n",
    "from were we get the new distribution on H_i, \n",
    "\n",
    "> P(H_i|D) = P(D|H_i) P(H_i) / P(D)\n",
    "\n"
   ]
  },
  {
   "cell_type": "markdown",
   "id": "0f31729f",
   "metadata": {},
   "source": [
    "\n",
    "\n",
    "__Maximum Likelihood Criteria__\n",
    "\n",
    "Given the distribution of probabilities for each hypothesis, we next consider what our answer will be. \n",
    "\n",
    "The general thing to do is maximum likelihood estimation. Among all the H_i, look for the one with the greatest probability. This is what was done for the M&M problem. However the rule fails us here.\n",
    "\n",
    "As you can see, the maximum likelihood estimation rule would result in us always deciding the the number of trains owned by the company is equal to the largest train number that we have seen. This is betting that in the limited number of obserations we have made, we managed to see a very specific train &mdash; that with the largest number.\n",
    "\n",
    "So we need a different decision criteria. Implement for an example criteria the mean of the distribution.\n",
    "\n",
    "\n",
    "## Exercise the Train Problem"
   ]
  },
  {
   "cell_type": "code",
   "execution_count": 2,
   "id": "eb45fc02",
   "metadata": {},
   "outputs": [],
   "source": [
    "import numpy as np\n",
    "\n",
    "class Train:\n",
    "    \n",
    "    def __init__(self,prior):\n",
    "        # prior[i] is the probability of H_i, the company owns i trains\n",
    "        # prior[0]==0. The company owns at least one train\n",
    "        self.prior = prior\n",
    "        self.n = len(prior)-1\n",
    "        \n",
    "    @staticmethod\n",
    "    def uniform_prior(n):    \n",
    "        unif_prior = (1/n)*np.ones(n+1)\n",
    "        unif_prior[0] = 0\n",
    "        return unif_prior\n",
    "\n",
    "    def sum_priors(self):\n",
    "        return np.sum(self.prior)\n",
    "\n",
    "    def set_apriori(self,n):\n",
    "        self.prior = Train.uniform_prior(n)\n",
    "        self.n = len(prior)-1\n",
    "        \n",
    "    def likelihood(self,train_number):\n",
    "        # what is the likelihood of seeing train number train_number\n",
    "        # under the current prior, for each H_i\n",
    "        # the trains are numbered 1, 2, 3 ... n\n",
    "        \n",
    "        assert train_number>0\n",
    "        lh = np.zeros(self.n+1)\n",
    "        \n",
    "        pass\n",
    "    \n",
    "        return lh\n",
    "\n",
    "    def total_probability(self,likelihood):\n",
    "        # given the condition distribution P(D|H_i), i=1...,n\n",
    "        p_d = 1.0\n",
    "        \n",
    "        # calculate p_d\n",
    "        \n",
    "        return p_d\n",
    "    \n",
    "    def posterior(self,likelihood):\n",
    "        # given the likelihoods returns a distribution P(H_i) i=1..n\n",
    "        # of the posterior probabilities under the current prior\n",
    "            \n",
    "        post = np.zeros(self.n+1)\n",
    "        \n",
    "        pass \n",
    "    \n",
    "        return post\n",
    "\n",
    "    def experiment(self,train_number):\n",
    "        likelihood = self.likelihood(train_number)\n",
    "        posterior = self.posterior(likelihood)\n",
    "        self.prior = posterior\n",
    "        return self.decision()\n",
    "\n",
    "    def decision(self):\n",
    "        \n",
    "        pass \n",
    "    \n",
    "        return 0\n"
   ]
  },
  {
   "cell_type": "code",
   "execution_count": 3,
   "id": "945e311d",
   "metadata": {},
   "outputs": [
    {
     "name": "stdout",
     "output_type": "stream",
     "text": [
      "we believe the company has about 0 trains.\n"
     ]
    },
    {
     "data": {
      "image/png": "[encoded data removed]",
      "text/plain": [
       "<Figure size 432x288 with 1 Axes>"
      ]
     },
     "metadata": {
      "needs_background": "light"
     },
     "output_type": "display_data"
    }
   ],
   "source": [
    "%matplotlib inline\n",
    "\n",
    "import matplotlib.pyplot as plt\n",
    "\n",
    "\n",
    "n = 10\n",
    "train = Train(Train.uniform_prior(n))\n",
    "print(f'we believe the company has about {train.decision()} trains.')\n",
    "\n",
    "plt.plot([i for i in range(1,n+1)],train.prior[1:])\n",
    "plt.xlabel(\"number of trains\")\n",
    "plt.ylabel(\"probability\")\n",
    "plt.show()\n",
    "\n"
   ]
  },
  {
   "cell_type": "code",
   "execution_count": 4,
   "id": "e9314c5c",
   "metadata": {},
   "outputs": [
    {
     "name": "stdout",
     "output_type": "stream",
     "text": [
      "we believe the company has about 0 trains.\n"
     ]
    },
    {
     "data": {
      "image/png": "[encoded data removed]",
      "text/plain": [
       "<Figure size 432x288 with 1 Axes>"
      ]
     },
     "metadata": {
      "needs_background": "light"
     },
     "output_type": "display_data"
    }
   ],
   "source": [
    "print(f'we believe the company has about {train.experiment(4)} trains.') \n",
    "\n",
    "plt.plot([i for i in range(1,n+1)],train.prior[1:])\n",
    "plt.xlabel(\"number of trains\")\n",
    "plt.ylabel(\"probability\")\n",
    "plt.show()\n"
   ]
  },
  {
   "cell_type": "code",
   "execution_count": 5,
   "id": "fd1eeb7c",
   "metadata": {},
   "outputs": [
    {
     "name": "stdout",
     "output_type": "stream",
     "text": [
      "we believe the company has about 0 trains.\n"
     ]
    },
    {
     "data": {
      "image/png": "[encoded data removed]",
      "text/plain": [
       "<Figure size 432x288 with 1 Axes>"
      ]
     },
     "metadata": {
      "needs_background": "light"
     },
     "output_type": "display_data"
    }
   ],
   "source": [
    "print(f'we believe the company has about {train.experiment(4)} trains.') \n",
    "\n",
    "plt.plot([i for i in range(1,n+1)],train.prior[1:])\n",
    "plt.xlabel(\"number of trains\")\n",
    "plt.ylabel(\"probability\")\n",
    "plt.show()\n"
   ]
  },
  {
   "cell_type": "code",
   "execution_count": 6,
   "id": "c2efe443",
   "metadata": {},
   "outputs": [
    {
     "name": "stdout",
     "output_type": "stream",
     "text": [
      "we believe the company has about 0 trains.\n"
     ]
    },
    {
     "data": {
      "image/png": "[encoded data removed]",
      "text/plain": [
       "<Figure size 432x288 with 1 Axes>"
      ]
     },
     "metadata": {
      "needs_background": "light"
     },
     "output_type": "display_data"
    }
   ],
   "source": [
    "print(f'we believe the company has about {train.experiment(7)} trains.')\n",
    "plt.plot([i for i in range(1,n+1)],train.prior[1:])\n",
    "plt.xlabel(\"number of trains\")\n",
    "plt.ylabel(\"probability\")\n",
    "plt.show()\n"
   ]
  },
  {
   "cell_type": "markdown",
   "id": "65817075",
   "metadata": {},
   "source": [
    "### End of Notebook"
   ]
  }
 ],
 "metadata": {
  "kernelspec": {
   "display_name": "Python 3 (ipykernel)",
   "language": "python",
   "name": "python3"
  },
  "language_info": {
   "codemirror_mode": {
    "name": "ipython",
    "version": 3
   },
   "file_extension": ".py",
   "mimetype": "text/x-python",
   "name": "python",
   "nbconvert_exporter": "python",
   "pygments_lexer": "ipython3",
   "version": "3.9.7"
  }
 },
 "nbformat": 4,
 "nbformat_minor": 5
}
