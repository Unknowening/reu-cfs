{
 "cells": [
  {
   "cell_type": "markdown",
   "id": "a71858c2",
   "metadata": {},
   "source": [
    "## Scipy: Numpy, Pandas, Matplotlib\n",
    "\n",
    "<br>\n",
    "University of Miami\n",
    "<br>\n",
    "REU summer 2022\n",
    "<br>\n",
    "Burton Rosenberg.\n",
    "<br>\n",
    "<br>last update: May 26, 2022\n",
    "\n",
    "\n",
    "What is _Pandas_? Pandas is a Python library for the handling and curation of data.\n",
    "\n",
    "What is _Numpy_? Numpy is a Python library that implements vectorized, numerical computation.\n",
    "\n",
    "https://numpy.org/doc/stable/reference/index.html\n",
    "\n",
    "https://www.kaggle.com/datasets/aungpyaeap/fish-market?resource=download&select=Fish.csv\n",
    "\n",
    "__Panda's can read in a csv File__"
   ]
  },
  {
   "cell_type": "code",
   "execution_count": 1,
   "id": "4b44ca14",
   "metadata": {},
   "outputs": [
    {
     "data": {
      "text/plain": [
       "pandas.core.frame.DataFrame"
      ]
     },
     "execution_count": 1,
     "metadata": {},
     "output_type": "execute_result"
    }
   ],
   "source": [
    "import pandas as pd\n",
    "import numpy as np\n",
    "\n",
    "fish = pd.read_csv('./Fish.csv')\n",
    "type(fish)"
   ]
  },
  {
   "cell_type": "markdown",
   "id": "fd2c2c5a",
   "metadata": {},
   "source": [
    "You can then take a quick look at the DataFrame object, using `head`"
   ]
  },
  {
   "cell_type": "code",
   "execution_count": 2,
   "id": "4116c2ce",
   "metadata": {},
   "outputs": [
    {
     "data": {
      "text/html": [
       "<div>\n",
       "<style scoped>\n",
       "    .dataframe tbody tr th:only-of-type {\n",
       "        vertical-align: middle;\n",
       "    }\n",
       "\n",
       "    .dataframe tbody tr th {\n",
       "        vertical-align: top;\n",
       "    }\n",
       "\n",
       "    .dataframe thead th {\n",
       "        text-align: right;\n",
       "    }\n",
       "</style>\n",
       "<table border=\"1\" class=\"dataframe\">\n",
       "  <thead>\n",
       "    <tr style=\"text-align: right;\">\n",
       "      <th></th>\n",
       "      <th>Species</th>\n",
       "      <th>Weight</th>\n",
       "      <th>Length1</th>\n",
       "      <th>Length2</th>\n",
       "      <th>Length3</th>\n",
       "      <th>Height</th>\n",
       "      <th>Width</th>\n",
       "    </tr>\n",
       "  </thead>\n",
       "  <tbody>\n",
       "    <tr>\n",
       "      <th>0</th>\n",
       "      <td>Bream</td>\n",
       "      <td>242.0</td>\n",
       "      <td>23.2</td>\n",
       "      <td>25.4</td>\n",
       "      <td>30.0</td>\n",
       "      <td>11.5200</td>\n",
       "      <td>4.0200</td>\n",
       "    </tr>\n",
       "    <tr>\n",
       "      <th>1</th>\n",
       "      <td>Bream</td>\n",
       "      <td>290.0</td>\n",
       "      <td>24.0</td>\n",
       "      <td>26.3</td>\n",
       "      <td>31.2</td>\n",
       "      <td>12.4800</td>\n",
       "      <td>4.3056</td>\n",
       "    </tr>\n",
       "    <tr>\n",
       "      <th>2</th>\n",
       "      <td>Bream</td>\n",
       "      <td>340.0</td>\n",
       "      <td>23.9</td>\n",
       "      <td>26.5</td>\n",
       "      <td>31.1</td>\n",
       "      <td>12.3778</td>\n",
       "      <td>4.6961</td>\n",
       "    </tr>\n",
       "    <tr>\n",
       "      <th>3</th>\n",
       "      <td>Bream</td>\n",
       "      <td>363.0</td>\n",
       "      <td>26.3</td>\n",
       "      <td>29.0</td>\n",
       "      <td>33.5</td>\n",
       "      <td>12.7300</td>\n",
       "      <td>4.4555</td>\n",
       "    </tr>\n",
       "    <tr>\n",
       "      <th>4</th>\n",
       "      <td>Bream</td>\n",
       "      <td>430.0</td>\n",
       "      <td>26.5</td>\n",
       "      <td>29.0</td>\n",
       "      <td>34.0</td>\n",
       "      <td>12.4440</td>\n",
       "      <td>5.1340</td>\n",
       "    </tr>\n",
       "  </tbody>\n",
       "</table>\n",
       "</div>"
      ],
      "text/plain": [
       "  Species  Weight  Length1  Length2  Length3   Height   Width\n",
       "0   Bream   242.0     23.2     25.4     30.0  11.5200  4.0200\n",
       "1   Bream   290.0     24.0     26.3     31.2  12.4800  4.3056\n",
       "2   Bream   340.0     23.9     26.5     31.1  12.3778  4.6961\n",
       "3   Bream   363.0     26.3     29.0     33.5  12.7300  4.4555\n",
       "4   Bream   430.0     26.5     29.0     34.0  12.4440  5.1340"
      ]
     },
     "execution_count": 2,
     "metadata": {},
     "output_type": "execute_result"
    }
   ],
   "source": [
    "fish.head()"
   ]
  },
  {
   "cell_type": "markdown",
   "id": "c008f665",
   "metadata": {},
   "source": [
    "The DataFrame is made up of DataSeries objects, each labeled by the column."
   ]
  },
  {
   "cell_type": "code",
   "execution_count": 3,
   "id": "1607bf0e",
   "metadata": {},
   "outputs": [
    {
     "name": "stdout",
     "output_type": "stream",
     "text": [
      "|Species|\n",
      "|Weight|\n",
      "|Length1|\n",
      "|Length2|\n",
      "|Length3|\n",
      "|Height|\n",
      "|Width|\n"
     ]
    },
    {
     "data": {
      "text/plain": [
       "pandas.core.series.Series"
      ]
     },
     "execution_count": 3,
     "metadata": {},
     "output_type": "execute_result"
    }
   ],
   "source": [
    "for c in fish.columns:\n",
    "    print(f'|{c}|')\n",
    "\n",
    "type(fish['Width'])"
   ]
  },
  {
   "cell_type": "markdown",
   "id": "b6021f25",
   "metadata": {},
   "source": [
    "And each Series has a numpy ndarray of data, to look at or manipulate."
   ]
  },
  {
   "cell_type": "code",
   "execution_count": 4,
   "id": "5610e2b5",
   "metadata": {},
   "outputs": [
    {
     "name": "stdout",
     "output_type": "stream",
     "text": [
      "0    242.0\n",
      "1    290.0\n",
      "2    340.0\n",
      "3    363.0\n",
      "4    430.0\n",
      "Name: Weight, dtype: float64\n"
     ]
    },
    {
     "data": {
      "text/plain": [
       "numpy.ndarray"
      ]
     },
     "execution_count": 4,
     "metadata": {},
     "output_type": "execute_result"
    }
   ],
   "source": [
    "print(fish['Weight'].head())\n",
    "\n",
    "type(fish['Weight'].values)"
   ]
  },
  {
   "cell_type": "markdown",
   "id": "e885b5db",
   "metadata": {},
   "source": [
    "And we can do standard numpy things to the ndarray."
   ]
  },
  {
   "cell_type": "code",
   "execution_count": 5,
   "id": "ad39102c",
   "metadata": {},
   "outputs": [
    {
     "data": {
      "text/plain": [
       "(398.3264150943396, 356.85082298949595)"
      ]
     },
     "execution_count": 5,
     "metadata": {},
     "output_type": "execute_result"
    }
   ],
   "source": [
    "np.mean(fish['Weight']), np.std(fish['Weight'])"
   ]
  },
  {
   "cell_type": "code",
   "execution_count": 6,
   "id": "a361a499",
   "metadata": {},
   "outputs": [
    {
     "name": "stdout",
     "output_type": "stream",
     "text": [
      "Weight:\n",
      "\tmean=398.3264\n",
      "\tstd=356.8508\n",
      "Length1:\n",
      "\tmean=26.2472\n",
      "\tstd=9.9650\n",
      "Length2:\n",
      "\tmean=28.4157\n",
      "\tstd=10.6826\n",
      "Length3:\n",
      "\tmean=31.2270\n",
      "\tstd=11.5737\n",
      "Height:\n",
      "\tmean=8.9710\n",
      "\tstd=4.2727\n",
      "Width:\n",
      "\tmean=4.4175\n",
      "\tstd=1.6805\n"
     ]
    }
   ],
   "source": [
    "for c in fish.columns:\n",
    "    if c=='Species':\n",
    "        continue\n",
    "    d_s = fish[c]  # a pd.DataSeries object\n",
    "    print(f'{c}:\\n\\tmean={np.mean(d_s.values):.4f}\\n\\tstd={np.std(d_s.values):.4f}')\n",
    "    \n",
    "    "
   ]
  },
  {
   "cell_type": "markdown",
   "id": "a63fe2bf",
   "metadata": {},
   "source": [
    "### Grouping\n",
    "\n"
   ]
  },
  {
   "cell_type": "code",
   "execution_count": 7,
   "id": "60f2a717",
   "metadata": {},
   "outputs": [
    {
     "data": {
      "text/html": [
       "<div>\n",
       "<style scoped>\n",
       "    .dataframe tbody tr th:only-of-type {\n",
       "        vertical-align: middle;\n",
       "    }\n",
       "\n",
       "    .dataframe tbody tr th {\n",
       "        vertical-align: top;\n",
       "    }\n",
       "\n",
       "    .dataframe thead th {\n",
       "        text-align: right;\n",
       "    }\n",
       "</style>\n",
       "<table border=\"1\" class=\"dataframe\">\n",
       "  <thead>\n",
       "    <tr style=\"text-align: right;\">\n",
       "      <th></th>\n",
       "      <th>Weight</th>\n",
       "      <th>Length1</th>\n",
       "      <th>Length2</th>\n",
       "      <th>Length3</th>\n",
       "      <th>Height</th>\n",
       "      <th>Width</th>\n",
       "    </tr>\n",
       "    <tr>\n",
       "      <th>Species</th>\n",
       "      <th></th>\n",
       "      <th></th>\n",
       "      <th></th>\n",
       "      <th></th>\n",
       "      <th></th>\n",
       "      <th></th>\n",
       "    </tr>\n",
       "  </thead>\n",
       "  <tbody>\n",
       "    <tr>\n",
       "      <th>Bream</th>\n",
       "      <td>617.828571</td>\n",
       "      <td>30.305714</td>\n",
       "      <td>33.108571</td>\n",
       "      <td>38.354286</td>\n",
       "      <td>15.183211</td>\n",
       "      <td>5.427614</td>\n",
       "    </tr>\n",
       "    <tr>\n",
       "      <th>Parkki</th>\n",
       "      <td>154.818182</td>\n",
       "      <td>18.727273</td>\n",
       "      <td>20.345455</td>\n",
       "      <td>22.790909</td>\n",
       "      <td>8.962427</td>\n",
       "      <td>3.220736</td>\n",
       "    </tr>\n",
       "    <tr>\n",
       "      <th>Perch</th>\n",
       "      <td>382.239286</td>\n",
       "      <td>25.735714</td>\n",
       "      <td>27.892857</td>\n",
       "      <td>29.571429</td>\n",
       "      <td>7.861870</td>\n",
       "      <td>4.745723</td>\n",
       "    </tr>\n",
       "    <tr>\n",
       "      <th>Pike</th>\n",
       "      <td>718.705882</td>\n",
       "      <td>42.476471</td>\n",
       "      <td>45.482353</td>\n",
       "      <td>48.717647</td>\n",
       "      <td>7.713771</td>\n",
       "      <td>5.086382</td>\n",
       "    </tr>\n",
       "    <tr>\n",
       "      <th>Roach</th>\n",
       "      <td>152.050000</td>\n",
       "      <td>20.645000</td>\n",
       "      <td>22.275000</td>\n",
       "      <td>24.970000</td>\n",
       "      <td>6.694795</td>\n",
       "      <td>3.657850</td>\n",
       "    </tr>\n",
       "    <tr>\n",
       "      <th>Smelt</th>\n",
       "      <td>11.178571</td>\n",
       "      <td>11.257143</td>\n",
       "      <td>11.921429</td>\n",
       "      <td>13.035714</td>\n",
       "      <td>2.209371</td>\n",
       "      <td>1.340093</td>\n",
       "    </tr>\n",
       "    <tr>\n",
       "      <th>Whitefish</th>\n",
       "      <td>531.000000</td>\n",
       "      <td>28.800000</td>\n",
       "      <td>31.316667</td>\n",
       "      <td>34.316667</td>\n",
       "      <td>10.027167</td>\n",
       "      <td>5.473050</td>\n",
       "    </tr>\n",
       "  </tbody>\n",
       "</table>\n",
       "</div>"
      ],
      "text/plain": [
       "               Weight    Length1    Length2    Length3     Height     Width\n",
       "Species                                                                    \n",
       "Bream      617.828571  30.305714  33.108571  38.354286  15.183211  5.427614\n",
       "Parkki     154.818182  18.727273  20.345455  22.790909   8.962427  3.220736\n",
       "Perch      382.239286  25.735714  27.892857  29.571429   7.861870  4.745723\n",
       "Pike       718.705882  42.476471  45.482353  48.717647   7.713771  5.086382\n",
       "Roach      152.050000  20.645000  22.275000  24.970000   6.694795  3.657850\n",
       "Smelt       11.178571  11.257143  11.921429  13.035714   2.209371  1.340093\n",
       "Whitefish  531.000000  28.800000  31.316667  34.316667  10.027167  5.473050"
      ]
     },
     "execution_count": 7,
     "metadata": {},
     "output_type": "execute_result"
    }
   ],
   "source": [
    "f_gb = fish.groupby('Species')\n",
    "f_gb.mean()\n"
   ]
  },
  {
   "cell_type": "code",
   "execution_count": 8,
   "id": "da44ea48",
   "metadata": {},
   "outputs": [
    {
     "data": {
      "text/html": [
       "<div>\n",
       "<style scoped>\n",
       "    .dataframe tbody tr th:only-of-type {\n",
       "        vertical-align: middle;\n",
       "    }\n",
       "\n",
       "    .dataframe tbody tr th {\n",
       "        vertical-align: top;\n",
       "    }\n",
       "\n",
       "    .dataframe thead th {\n",
       "        text-align: right;\n",
       "    }\n",
       "</style>\n",
       "<table border=\"1\" class=\"dataframe\">\n",
       "  <thead>\n",
       "    <tr style=\"text-align: right;\">\n",
       "      <th></th>\n",
       "      <th>Weight</th>\n",
       "      <th>Length1</th>\n",
       "      <th>Length2</th>\n",
       "      <th>Length3</th>\n",
       "      <th>Height</th>\n",
       "      <th>Width</th>\n",
       "    </tr>\n",
       "    <tr>\n",
       "      <th>Species</th>\n",
       "      <th></th>\n",
       "      <th></th>\n",
       "      <th></th>\n",
       "      <th></th>\n",
       "      <th></th>\n",
       "      <th></th>\n",
       "    </tr>\n",
       "  </thead>\n",
       "  <tbody>\n",
       "    <tr>\n",
       "      <th>Bream</th>\n",
       "      <td>209.205709</td>\n",
       "      <td>3.593699</td>\n",
       "      <td>3.911925</td>\n",
       "      <td>4.157866</td>\n",
       "      <td>1.964707</td>\n",
       "      <td>0.721509</td>\n",
       "    </tr>\n",
       "    <tr>\n",
       "      <th>Parkki</th>\n",
       "      <td>78.755086</td>\n",
       "      <td>3.284841</td>\n",
       "      <td>3.557348</td>\n",
       "      <td>3.959155</td>\n",
       "      <td>1.615650</td>\n",
       "      <td>0.643347</td>\n",
       "    </tr>\n",
       "    <tr>\n",
       "      <th>Perch</th>\n",
       "      <td>347.617717</td>\n",
       "      <td>8.561572</td>\n",
       "      <td>9.021668</td>\n",
       "      <td>9.529509</td>\n",
       "      <td>2.878177</td>\n",
       "      <td>1.774626</td>\n",
       "    </tr>\n",
       "    <tr>\n",
       "      <th>Pike</th>\n",
       "      <td>494.140765</td>\n",
       "      <td>9.029087</td>\n",
       "      <td>9.714116</td>\n",
       "      <td>10.167426</td>\n",
       "      <td>1.664228</td>\n",
       "      <td>1.140269</td>\n",
       "    </tr>\n",
       "    <tr>\n",
       "      <th>Roach</th>\n",
       "      <td>88.828916</td>\n",
       "      <td>3.459917</td>\n",
       "      <td>3.651946</td>\n",
       "      <td>4.031599</td>\n",
       "      <td>1.261192</td>\n",
       "      <td>0.690371</td>\n",
       "    </tr>\n",
       "    <tr>\n",
       "      <th>Smelt</th>\n",
       "      <td>4.131526</td>\n",
       "      <td>1.216372</td>\n",
       "      <td>1.432147</td>\n",
       "      <td>1.426457</td>\n",
       "      <td>0.351780</td>\n",
       "      <td>0.286611</td>\n",
       "    </tr>\n",
       "    <tr>\n",
       "      <th>Whitefish</th>\n",
       "      <td>309.602972</td>\n",
       "      <td>5.580681</td>\n",
       "      <td>5.723781</td>\n",
       "      <td>6.023759</td>\n",
       "      <td>1.830201</td>\n",
       "      <td>1.194258</td>\n",
       "    </tr>\n",
       "  </tbody>\n",
       "</table>\n",
       "</div>"
      ],
      "text/plain": [
       "               Weight   Length1   Length2    Length3    Height     Width\n",
       "Species                                                                 \n",
       "Bream      209.205709  3.593699  3.911925   4.157866  1.964707  0.721509\n",
       "Parkki      78.755086  3.284841  3.557348   3.959155  1.615650  0.643347\n",
       "Perch      347.617717  8.561572  9.021668   9.529509  2.878177  1.774626\n",
       "Pike       494.140765  9.029087  9.714116  10.167426  1.664228  1.140269\n",
       "Roach       88.828916  3.459917  3.651946   4.031599  1.261192  0.690371\n",
       "Smelt        4.131526  1.216372  1.432147   1.426457  0.351780  0.286611\n",
       "Whitefish  309.602972  5.580681  5.723781   6.023759  1.830201  1.194258"
      ]
     },
     "execution_count": 8,
     "metadata": {},
     "output_type": "execute_result"
    }
   ],
   "source": [
    "f_gb.std()"
   ]
  },
  {
   "cell_type": "markdown",
   "id": "e5c9dad5",
   "metadata": {},
   "source": [
    "### Numpy\n",
    "\n",
    "The Series objects ultimately include an array of numbers as a Numpy object, called an ndarray. Ndarrays are stored and manipulated efficiently in memeory because they are C language arrays, not lists. They are additional features,\n",
    "\n",
    "- Two ndarrays can operate on each other componentwise. \n",
    "- Operations between ndarrays use broadcasting to prepare ndarrays to be operated on componentwise\n",
    "- Ufuncts can vectorize the application of a function to every element in the array.\n",
    "\n",
    "The ndarray in the Series is its `values` property; however in many cases the Series itself can be presented and the calculation will understand to work on the values property. \n",
    "\n",
    "As examples of the three features mentioned, \n",
    "\n",
    "- When ndarrays `v` and `w` are combined as `v + w` it is understood as `v[i]+w[i]` for all `i`.\n",
    "- Whan a scalar `x` is applied to a vector `v`, the scare is expanded by repeating the value x until it has the shape of the vector. Hence `x * v` is understood as `x * v[i]` for all `i`.\n",
    "- In an operation on vector `v` such as `v**2`, it is a unfunct that applies squaring to each element; hence it is understood as `v[i]**2` for all `i`."
   ]
  },
  {
   "cell_type": "code",
   "execution_count": 9,
   "id": "3426b55b",
   "metadata": {},
   "outputs": [
    {
     "name": "stdout",
     "output_type": "stream",
     "text": [
      "Perce: mean = 382.2393, standard deviation = 347.6177\n"
     ]
    }
   ],
   "source": [
    "import math\n",
    "\n",
    "perch_weight_ds = fish['Weight'][f_gb.groups['Perch']]\n",
    "m = np.mean(perch_weight_ds)\n",
    "s = math.sqrt(np.sum((perch_weight_ds - m)**2)/(len(perch_weight_ds)-1))\n",
    "print(f'Perce: mean = {m:.4f}, standard deviation = {s:.4f}')"
   ]
  },
  {
   "cell_type": "markdown",
   "id": "c5d65c3b",
   "metadata": {},
   "source": [
    "### Linear regression"
   ]
  },
  {
   "cell_type": "code",
   "execution_count": 10,
   "id": "8b710094",
   "metadata": {},
   "outputs": [
    {
     "name": "stdout",
     "output_type": "stream",
     "text": [
      "0 5.9 2.112\n",
      "1 32.0 3.528\n",
      "2 40.0 3.824\n",
      "3 51.5 4.5924\n",
      "4 70.0 4.588\n",
      "5 100.0 5.2224\n",
      "6 78.0 5.1992\n",
      "7 80.0 5.6358\n",
      "8 85.0 5.1376\n",
      "9 85.0 5.082\n",
      "10 110.0 5.6925\n",
      "11 115.0 5.9175\n",
      "12 125.0 5.6925\n",
      "13 130.0 6.384\n",
      "14 120.0 6.11\n",
      "15 120.0 5.64\n",
      "16 130.0 6.11\n",
      "17 135.0 5.875\n",
      "18 110.0 5.5225\n",
      "19 130.0 5.856\n",
      "20 150.0 6.792\n",
      "21 145.0 5.9532\n",
      "22 150.0 5.2185\n",
      "23 170.0 6.275\n",
      "24 225.0 7.293\n",
      "25 145.0 6.375\n",
      "26 188.0 6.7334\n",
      "27 180.0 6.4395\n",
      "28 197.0 6.561\n",
      "29 218.0 7.168\n",
      "30 300.0 8.323\n",
      "31 260.0 7.1672\n",
      "32 265.0 7.0516\n",
      "33 250.0 7.2828\n",
      "34 250.0 7.8204\n",
      "35 300.0 7.5852\n",
      "36 320.0 7.6156\n",
      "37 514.0 10.03\n",
      "38 556.0 10.2565\n",
      "39 840.0 11.4884\n",
      "40 685.0 10.881\n",
      "41 700.0 10.6091\n",
      "42 700.0 10.835\n",
      "43 690.0 10.5717\n",
      "44 900.0 11.1366\n",
      "45 650.0 11.1366\n",
      "46 820.0 12.4313\n",
      "47 850.0 11.9286\n",
      "48 900.0 11.73\n",
      "49 1015.0 12.3808\n",
      "50 820.0 11.135\n",
      "51 1100.0 12.8002\n",
      "52 1000.0 11.9328\n",
      "53 1100.0 12.5125\n",
      "54 1000.0 12.604\n",
      "55 1000.0 12.4888\n"
     ]
    }
   ],
   "source": [
    "p_h_ds = fish['Height'][f_gb.groups['Perch']]\n",
    "p_w_ds = fish['Weight'][f_gb.groups['Perch']]\n",
    "\n",
    "#\n",
    "# get_group()\n",
    "# https://pandas.pydata.org/docs/reference/groupby.html\n",
    "#\n",
    "\n",
    "for i in range(len(p_h_ds)):\n",
    "    print(i,p_w_ds.values[i],p_h_ds.values[i])"
   ]
  },
  {
   "cell_type": "code",
   "execution_count": null,
   "id": "9d84a021",
   "metadata": {},
   "outputs": [],
   "source": [
    "h_zero = p_h_ds.values - np.mean(p_h_ds.values)\n",
    "w_zero = p_w_ds.values - np.mean(p_w_ds.values)\n",
    "dot_h_w = np.sum(h_zero*w_zero)\n",
    "covar = dot_h_w/len(p_h_ds.values)\n",
    "\n",
    "pearson_r = covar/(np.std(p_h_ds.values)*np.std(p_w_ds.values))\n",
    "\n",
    "print(pearson_r)"
   ]
  },
  {
   "cell_type": "code",
   "execution_count": 11,
   "id": "402e6cb3",
   "metadata": {},
   "outputs": [
    {
     "ename": "NameError",
     "evalue": "name 'pearson_r' is not defined",
     "output_type": "error",
     "traceback": [
      "\u001b[0;31m---------------------------------------------------------------------------\u001b[0m",
      "\u001b[0;31mNameError\u001b[0m                                 Traceback (most recent call last)",
      "\u001b[0;32m<ipython-input-11-a119b2758682>\u001b[0m in \u001b[0;36m<module>\u001b[0;34m\u001b[0m\n\u001b[0;32m----> 1\u001b[0;31m \u001b[0mm\u001b[0m \u001b[0;34m=\u001b[0m \u001b[0mpearson_r\u001b[0m \u001b[0;34m*\u001b[0m \u001b[0mnp\u001b[0m\u001b[0;34m.\u001b[0m\u001b[0mstd\u001b[0m\u001b[0;34m(\u001b[0m\u001b[0mp_h_ds\u001b[0m\u001b[0;34m.\u001b[0m\u001b[0mvalues\u001b[0m\u001b[0;34m)\u001b[0m\u001b[0;34m/\u001b[0m\u001b[0mnp\u001b[0m\u001b[0;34m.\u001b[0m\u001b[0mstd\u001b[0m\u001b[0;34m(\u001b[0m\u001b[0mp_w_ds\u001b[0m\u001b[0;34m.\u001b[0m\u001b[0mvalues\u001b[0m\u001b[0;34m)\u001b[0m\u001b[0;34m\u001b[0m\u001b[0;34m\u001b[0m\u001b[0m\n\u001b[0m\u001b[1;32m      2\u001b[0m \u001b[0mb\u001b[0m \u001b[0;34m=\u001b[0m \u001b[0mnp\u001b[0m\u001b[0;34m.\u001b[0m\u001b[0mmean\u001b[0m\u001b[0;34m(\u001b[0m\u001b[0mp_h_ds\u001b[0m\u001b[0;34m.\u001b[0m\u001b[0mvalues\u001b[0m\u001b[0;34m)\u001b[0m \u001b[0;34m-\u001b[0m \u001b[0mm\u001b[0m \u001b[0;34m*\u001b[0m \u001b[0mnp\u001b[0m\u001b[0;34m.\u001b[0m\u001b[0mmean\u001b[0m\u001b[0;34m(\u001b[0m\u001b[0mp_w_ds\u001b[0m\u001b[0;34m.\u001b[0m\u001b[0mvalues\u001b[0m\u001b[0;34m)\u001b[0m\u001b[0;34m\u001b[0m\u001b[0;34m\u001b[0m\u001b[0m\n\u001b[1;32m      3\u001b[0m \u001b[0;34m\u001b[0m\u001b[0m\n\u001b[1;32m      4\u001b[0m \u001b[0;32mfor\u001b[0m \u001b[0mi\u001b[0m \u001b[0;32min\u001b[0m \u001b[0mrange\u001b[0m\u001b[0;34m(\u001b[0m\u001b[0mlen\u001b[0m\u001b[0;34m(\u001b[0m\u001b[0mp_h_ds\u001b[0m\u001b[0;34m)\u001b[0m\u001b[0;34m)\u001b[0m\u001b[0;34m:\u001b[0m\u001b[0;34m\u001b[0m\u001b[0;34m\u001b[0m\u001b[0m\n\u001b[1;32m      5\u001b[0m     \u001b[0mprint\u001b[0m\u001b[0;34m(\u001b[0m\u001b[0;34mf'exp {i}: obs: {p_h_ds.values[i]:.4f} pred: {m*p_w_ds.values[i]+b:.4f}'\u001b[0m\u001b[0;34m)\u001b[0m\u001b[0;34m\u001b[0m\u001b[0;34m\u001b[0m\u001b[0m\n",
      "\u001b[0;31mNameError\u001b[0m: name 'pearson_r' is not defined"
     ]
    }
   ],
   "source": [
    "m = pearson_r * np.std(p_h_ds.values)/np.std(p_w_ds.values)\n",
    "b = np.mean(p_h_ds.values) - m * np.mean(p_w_ds.values)\n",
    "\n",
    "for i in range(len(p_h_ds)):\n",
    "    print(f'exp {i}: obs: {p_h_ds.values[i]:.4f} pred: {m*p_w_ds.values[i]+b:.4f}')"
   ]
  },
  {
   "cell_type": "markdown",
   "id": "b7beebeb",
   "metadata": {},
   "source": [
    "## Matplotlib"
   ]
  },
  {
   "cell_type": "code",
   "execution_count": null,
   "id": "700f258c",
   "metadata": {},
   "outputs": [],
   "source": [
    "import matplotlib as mpl\n",
    "import matplotlib.pyplot as plt\n",
    "\n",
    "%matplotlib inline"
   ]
  },
  {
   "cell_type": "code",
   "execution_count": null,
   "id": "89328dd7",
   "metadata": {},
   "outputs": [],
   "source": [
    "\n",
    "plt.figure(figsize=(12, 6))\n",
    "\n",
    "plt.plot(p_w_ds.values, m*p_w_ds.values+b)     # regression line\n",
    "plt.plot(p_w_ds.values, p_h_ds.values, 'ro')   # scatter plot showing actual data\n",
    "plt.title('Perch Data')\n",
    "plt.xlabel('Weight')\n",
    "plt.ylabel('Height')\n",
    "\n",
    "plt.show()"
   ]
  },
  {
   "cell_type": "code",
   "execution_count": null,
   "id": "436f6029",
   "metadata": {},
   "outputs": [],
   "source": []
  }
 ],
 "metadata": {
  "kernelspec": {
   "display_name": "Python 3",
   "language": "python",
   "name": "python3"
  },
  "language_info": {
   "codemirror_mode": {
    "name": "ipython",
    "version": 3
   },
   "file_extension": ".py",
   "mimetype": "text/x-python",
   "name": "python",
   "nbconvert_exporter": "python",
   "pygments_lexer": "ipython3",
   "version": "3.8.10"
  }
 },
 "nbformat": 4,
 "nbformat_minor": 5
}
