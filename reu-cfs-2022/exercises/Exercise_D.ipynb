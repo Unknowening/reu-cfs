{
 "cells": [
  {
   "cell_type": "markdown",
   "metadata": {},
   "source": [
    "# Example D\n",
    "\n",
    "<br>\n",
    "university of miami\n",
    "<br>\n",
    "REU summer 2022\n",
    "<br>\n",
    "Burton Rosenberg.\n",
    "<br>\n",
    "<br>last update: May 23, 2022\n",
    "\n"
   ]
  },
  {
   "cell_type": "markdown",
   "metadata": {},
   "source": [
    "\n",
    "\n",
    "__Topics__\n",
    "\n",
    "1. The syntax of the class block (indent, with a :)\n",
    "1. Style note: Class names are Capitalized, maybe CamelCase\n",
    "1. The init function in a  class block\n",
    "1. The magic of _self_\n",
    "1. Instancing a class \n",
    "1. Name space of a class (or why cdr.cdr is not read as cdr.cdr)\n",
    "\n",
    "\n",
    "This program introduces classes; we wrap a class around a list, so that the next function gives the next element in the list.\n",
    "\n"
   ]
  },
  {
   "cell_type": "markdown",
   "metadata": {},
   "source": [
    "## Exercise D"
   ]
  },
  {
   "cell_type": "code",
   "execution_count": 1,
   "metadata": {},
   "outputs": [
    {
     "name": "stdout",
     "output_type": "stream",
     "text": [
      "[9, 8, 7, 6, 5, 4, 3, 2, 1, 0]\n",
      "The sum of all numbers in the list is: 0\n",
      "The statement \"no number in the list is zero\" is True\n"
     ]
    }
   ],
   "source": [
    "class IterateObject:\n",
    "    \n",
    "    def __init__(self,some_list):\n",
    "        self.l = some_list\n",
    "    \n",
    "    def iterate_forwards(self): \n",
    "        # print one by one in order\n",
    "        pass\n",
    "    \n",
    "    def iterate_backwards(self):\n",
    "        # print one by one in reverse order\n",
    "        # hint:\n",
    "        print(self.l[::-1])\n",
    "        \n",
    "    def sum_up(self):\n",
    "        # sum up all the integers in the list and return\n",
    "        return 0\n",
    "    \n",
    "    def all_not_zero(self):\n",
    "        # return True if no integer in the list is zero, else return False\n",
    "        return True\n",
    "\n",
    "\n",
    "io = IterateObject([i for i in range(10)])\n",
    "\n",
    "io.iterate_forwards()\n",
    "io.iterate_backwards()\n",
    "print(f'The sum of all numbers in the list is: {io.sum_up()}')\n",
    "print(f'The statement \"no number in the list is zero\" is {io.all_not_zero()}')\n",
    "\n"
   ]
  },
  {
   "cell_type": "code",
   "execution_count": null,
   "metadata": {},
   "outputs": [],
   "source": []
  },
  {
   "cell_type": "code",
   "execution_count": null,
   "metadata": {},
   "outputs": [],
   "source": []
  }
 ],
 "metadata": {
  "kernelspec": {
   "display_name": "Python 3",
   "language": "python",
   "name": "python3"
  },
  "language_info": {
   "codemirror_mode": {
    "name": "ipython",
    "version": 3
   },
   "file_extension": ".py",
   "mimetype": "text/x-python",
   "name": "python",
   "nbconvert_exporter": "python",
   "pygments_lexer": "ipython3",
   "version": "3.8.10"
  }
 },
 "nbformat": 4,
 "nbformat_minor": 4
}
