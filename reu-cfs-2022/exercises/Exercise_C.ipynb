{
 "cells": [
  {
   "cell_type": "markdown",
   "metadata": {},
   "source": [
    "# Example C\n",
    "\n",
    "<br>\n",
    "university of miami\n",
    "<br>\n",
    "REU summer 2022\n",
    "<br>\n",
    "Burton Rosenberg.\n",
    "<br>\n",
    "<br>last update: May 23, 2022\n",
    "\n",
    "\n",
    "This exercise introduces recursion.\n",
    "\n",
    "One possible way to use a list is, rather than iterating, to process the first item on the list, then to call the function on itself with the rest of the list. This might result in a slower program, but often recursion is a simple way to solve a program. Hence we pratice it in this example.\n"
   ]
  },
  {
   "cell_type": "code",
   "execution_count": 1,
   "metadata": {},
   "outputs": [
    {
     "name": "stdout",
     "output_type": "stream",
     "text": [
      "car\n",
      "and\n",
      "cdr\n"
     ]
    }
   ],
   "source": [
    "# topics\n",
    "#    recursion\n",
    "#    the len function (basis case of recursion)\n",
    "#    list slicing\n",
    "#    deep and shallow copies\n",
    "#  \n",
    "\n",
    "def classic_car_cdr(the_list):\n",
    "    if len(the_list)>0:           # while there was somethign to do\n",
    "        print(the_list[0])           # do it to the first one\n",
    "        classic_car_cdr(the_list[1:])  # and then recurse on the rest\n",
    "    \n",
    "classic_car_cdr(['car','and','cdr'])"
   ]
  },
  {
   "cell_type": "markdown",
   "metadata": {},
   "source": [
    "### Namespaces and def's\n",
    "\n",
    "A namespace is a collection of _bindings_, and a binding is a name-value pair. \n",
    "\n",
    "When a name is encountered, a search is made for a binding of the name in one or more namespaces. The namespace searched depends both on runtime events, according to the _execution model_, and static text of the program, according to the _scope_. The static text analysis is called _lexical scoping_.\n",
    "\n",
    "When the define is evaluted, a function object is created and bound the given name. And the lexical scope of the names are determined. The names inside the function, including the names of the arguments to the function, will belong to the _local scope_ of that function.\n",
    "\n",
    "When the defined function is run, a local scope is created, a new namespace, that can be retrieved with the `local()` builtin function. It is returned as if it were a dictionary; you can look up values by name. While perhaps done differently in the details, this is exactly what is done.\n",
    "\n",
    "Observe in the following code:\n",
    "\n",
    "1. On entry to f the locals is called, and we see it has a binding only for the local \"n\"\n",
    "1. After def g and the introduction of variable j, on line 16 the local dictionary has n, j and g.\n",
    "1. The function g is called, a a new local scope is created. On line 9 i contains n and i.\n",
    "1. Note while n is a name in both scopes, they are different variables.\n",
    "1. Line 10 has the same effect as i = n. The value of n is looked up on the local scope.\n",
    "1. The local scope of g is printed one more time, on line 12, showing i's value update, and j now in scope\n",
    "1. Finally, line 18, having returned from g, the local scope returns to that of f."
   ]
  },
  {
   "cell_type": "code",
   "execution_count": 1,
   "metadata": {},
   "outputs": [
    {
     "name": "stdout",
     "output_type": "stream",
     "text": [
      "line 5: locals(): {'n': 10}\n",
      "line 16: locals(): {'n': 10, 'g': <function f.<locals>.g at 0x7fb1463974c0>, 'j': 3}\n",
      "line 9: locals(): {'n': 7, 'i': 2}\n",
      "line 12: locals(): {'n': 7, 'i': 7, 'j': 4}\n",
      "line 18: locals(): {'n': 10, 'g': <function f.<locals>.g at 0x7fb1463974c0>, 'j': 3}\n"
     ]
    },
    {
     "data": {
      "text/plain": [
       "True"
      ]
     },
     "execution_count": 1,
     "metadata": {},
     "output_type": "execute_result"
    }
   ],
   "source": [
    "\n",
    "\n",
    "def f(n):\n",
    "    \n",
    "    print(f'line 5: locals(): {locals()}')\n",
    "    \n",
    "    def g(n):\n",
    "        i = 2\n",
    "        print(f'line 9: locals(): {locals()}')\n",
    "        i = locals()[\"n\"]  # same as i = n\n",
    "        j = 4\n",
    "        print(f'line 12: locals(): {locals()}')\n",
    "        return True\n",
    "    \n",
    "    j = 3\n",
    "    print(f'line 16: locals(): {locals()}')\n",
    "    g(7)\n",
    "    print(f'line 18: locals(): {locals()}')\n",
    "    return True\n",
    "\n",
    "f(10)"
   ]
  },
  {
   "cell_type": "markdown",
   "metadata": {},
   "source": [
    "## Exercise C"
   ]
  },
  {
   "cell_type": "code",
   "execution_count": 3,
   "metadata": {},
   "outputs": [],
   "source": [
    "def boom_recursive(n):\n",
    "    \"\"\"\n",
    "    use the recursive prototype above to rewrite Boom\n",
    "    \"\"\"\n",
    "    pass\n",
    "    \n",
    "boom_recursive(10)"
   ]
  },
  {
   "cell_type": "code",
   "execution_count": null,
   "metadata": {},
   "outputs": [],
   "source": []
  },
  {
   "cell_type": "code",
   "execution_count": null,
   "metadata": {},
   "outputs": [],
   "source": []
  }
 ],
 "metadata": {
  "kernelspec": {
   "display_name": "Python 3",
   "language": "python",
   "name": "python3"
  },
  "language_info": {
   "codemirror_mode": {
    "name": "ipython",
    "version": 3
   },
   "file_extension": ".py",
   "mimetype": "text/x-python",
   "name": "python",
   "nbconvert_exporter": "python",
   "pygments_lexer": "ipython3",
   "version": "3.8.10"
  }
 },
 "nbformat": 4,
 "nbformat_minor": 4
}
