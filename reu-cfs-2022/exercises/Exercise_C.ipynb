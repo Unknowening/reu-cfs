{
 "cells": [
  {
   "cell_type": "markdown",
   "metadata": {},
   "source": [
    "# Example C\n",
    "\n",
    "<br>\n",
    "university of miami\n",
    "<br>\n",
    "REU summer 2022\n",
    "<br>\n",
    "Burton Rosenberg.\n",
    "<br>\n",
    "<br>last update: May 23, 2022\n",
    "\n"
   ]
  },
  {
   "cell_type": "markdown",
   "metadata": {},
   "source": [
    "### Namespaces and def's\n",
    "\n",
    "A namespace is a collection of _bindings_, and a binding is a name-value pair. \n",
    "\n",
    "When a name is encountered, a search is made for a binding of the name in one or more namespaces. The namespace searched depends both on runtime events, according to the _execution model_, and static text of the program, according to the _scope_. The static text analysis is called _lexical scoping_.\n",
    "\n",
    "When the define is evaluted, a function object is created and bound the given name. And the lexical scope of the names are determined. The names inside the function, including the names of the arguments to the function, will belong to the _local scope_ of that function.\n",
    "\n",
    "When the defined function is run, a local scope is created, a new namespace, that can be retrieved with the `local()` builtin function. It is returned as if it were a dictionary; you can look up values by name. While perhaps done differently in the details, this is exactly what is done.\n",
    "\n",
    "Observe in the following code:\n",
    "\n",
    "1. On entry to f the locals is called, and we see it has a binding only for the local \"n\"\n",
    "1. After def g and the introduction of variable j, on line 16 the local dictionary has n, j and g.\n",
    "1. The function g is called, a a new local scope is created. On line 9 i contains n and i.\n",
    "1. Note while n is a name in both scopes, they are different variables.\n",
    "1. Line 10 has the same effect as i = n. The value of n is looked up on the local scope.\n",
    "1. The local scope of g is printed one more time, on line 12, showing i's value update, and j now in scope\n",
    "1. Finally, line 18, having returned from g, the local scope returns to that of f."
   ]
  },
  {
   "cell_type": "code",
   "execution_count": null,
   "metadata": {},
   "outputs": [],
   "source": [
    "\n",
    "\n",
    "def f(n):\n",
    "    \n",
    "    print(f'line 5: locals(): {locals()}')\n",
    "    \n",
    "    def g(n):\n",
    "        i = 2\n",
    "        print(f'line 9: locals(): {locals()}')\n",
    "        i = locals()[\"n\"]  # same as i = n\n",
    "        j = 4\n",
    "        print(f'line 12: locals(): {locals()}')\n",
    "        return True\n",
    "    \n",
    "    j = 3\n",
    "    print(f'line 16: locals(): {locals()}')\n",
    "    g(7)\n",
    "    print(f'line 18: locals(): {locals()}')\n",
    "    return True\n",
    "\n",
    "f(10)"
   ]
  },
  {
   "cell_type": "markdown",
   "metadata": {},
   "source": [
    "### Iterators and List Comprehension\n",
    "\n",
    "The way Python looks at the task of printing out the number 10 down to 1 is to create a _iterable_ containing those numbers in that or, and _iterating_ over the interable. To iterate, use the `for _ in _` construct. To create this iterable, use the `range` builtin. (https://docs.python.org/3/library/functions.html#func-range)\n"
   ]
  },
  {
   "cell_type": "code",
   "execution_count": 15,
   "metadata": {},
   "outputs": [
    {
     "name": "stdout",
     "output_type": "stream",
     "text": [
      "0 1 2 3 4 5 6 7 8 9 "
     ]
    }
   ],
   "source": [
    "for i in range(10): print(i,end=' ')\n"
   ]
  },
  {
   "cell_type": "markdown",
   "metadata": {},
   "source": [
    "To create more complicated ranges, it is possible to do _list comprehension_, which creates a list from an iterator."
   ]
  },
  {
   "cell_type": "code",
   "execution_count": 22,
   "metadata": {},
   "outputs": [
    {
     "name": "stdout",
     "output_type": "stream",
     "text": [
      "l = [0, 1, 2, 3, 4, 5, 6, 7, 8, 9]\n",
      "l = [10, 9, 8, 7, 6, 5, 4, 3, 2, 1]\n"
     ]
    }
   ],
   "source": [
    "l = [i for i in range(10)]\n",
    "print(f'l = {l}')\n",
    "l = [10-i for i in range(10)]\n",
    "print(f'l = {l}')"
   ]
  },
  {
   "cell_type": "markdown",
   "metadata": {},
   "source": [
    "### Recursion\n",
    "\n",
    "As a combination lesson in both lists and namespaces, consider the program that implements boom by calling itself. Starting with the list 10 through 1, it prints the first thing on the list removes the first thing on the list, then calls it self on the remainder of the list.\n",
    "\n",
    "Until the list is empty, then it prints BOOM! and returns.\n",
    "\n",
    "Using the slice noation `[1:]` which means - the list from item number 1, (the second item) until the end.\n"
   ]
  },
  {
   "cell_type": "code",
   "execution_count": 30,
   "metadata": {},
   "outputs": [
    {
     "name": "stdout",
     "output_type": "stream",
     "text": [
      "\tlocal: {'the_list': [10, 9, 8, 7, 6, 5, 4, 3, 2, 1]}\n",
      "10\n",
      "\tlocal: {'the_list': [9, 8, 7, 6, 5, 4, 3, 2, 1]}\n",
      "9\n",
      "\tlocal: {'the_list': [8, 7, 6, 5, 4, 3, 2, 1]}\n",
      "8\n",
      "\tlocal: {'the_list': [7, 6, 5, 4, 3, 2, 1]}\n",
      "7\n",
      "\tlocal: {'the_list': [6, 5, 4, 3, 2, 1]}\n",
      "6\n",
      "\tlocal: {'the_list': [5, 4, 3, 2, 1]}\n",
      "5\n",
      "\tlocal: {'the_list': [4, 3, 2, 1]}\n",
      "4\n",
      "\tlocal: {'the_list': [3, 2, 1]}\n",
      "3\n",
      "\tlocal: {'the_list': [2, 1]}\n",
      "2\n",
      "\tlocal: {'the_list': [1]}\n",
      "1\n",
      "\tlocal: {'the_list': []}\n",
      "BOOM!\n"
     ]
    }
   ],
   "source": [
    "# topics\n",
    "#    recursion\n",
    "#    the len function (basis case of recursion)\n",
    "#    list slicing\n",
    "#    deep and shallow copies\n",
    "#  \n",
    "\n",
    "def boom_recursive(the_list):\n",
    "    print(f'\\tlocal: {locals()}')\n",
    "    if len(the_list)>0:           # while there was somethign to do\n",
    "        print(the_list[0])           # do it to the first one\n",
    "        boom_recursive(the_list[1:])  # and then recurse on the rest\n",
    "    else:\n",
    "        print('BOOM!')\n",
    "    \n",
    "boom_recursive([i for i in range(10,0,-1)])"
   ]
  },
  {
   "cell_type": "markdown",
   "metadata": {},
   "source": [
    "## Exercise C"
   ]
  },
  {
   "cell_type": "code",
   "execution_count": 34,
   "metadata": {},
   "outputs": [],
   "source": [
    "def fib_recursive(n):\n",
    "    if n<2:\n",
    "        return 1\n",
    "    return fib_recursive(n-1)+fib_recursive(n-2)"
   ]
  },
  {
   "cell_type": "code",
   "execution_count": 37,
   "metadata": {},
   "outputs": [
    {
     "name": "stdout",
     "output_type": "stream",
     "text": [
      "0: 1\n",
      "1: 1\n",
      "2: 2\n",
      "3: 3\n",
      "4: 5\n",
      "5: 8\n",
      "6: 13\n"
     ]
    }
   ],
   "source": [
    "for i in range(7):\n",
    "    print(f'{i}: {fib_recursive(i)}')"
   ]
  },
  {
   "cell_type": "code",
   "execution_count": null,
   "metadata": {},
   "outputs": [],
   "source": []
  },
  {
   "cell_type": "code",
   "execution_count": null,
   "metadata": {},
   "outputs": [],
   "source": []
  }
 ],
 "metadata": {
  "kernelspec": {
   "display_name": "Python 3",
   "language": "python",
   "name": "python3"
  },
  "language_info": {
   "codemirror_mode": {
    "name": "ipython",
    "version": 3
   },
   "file_extension": ".py",
   "mimetype": "text/x-python",
   "name": "python",
   "nbconvert_exporter": "python",
   "pygments_lexer": "ipython3",
   "version": "3.8.10"
  }
 },
 "nbformat": 4,
 "nbformat_minor": 4
}
