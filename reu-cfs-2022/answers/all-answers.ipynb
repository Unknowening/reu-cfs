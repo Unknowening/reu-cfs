{
 "cells": [
  {
   "cell_type": "code",
   "execution_count": 64,
   "id": "084ccf3f",
   "metadata": {},
   "outputs": [
    {
     "name": "stdout",
     "output_type": "stream",
     "text": [
      "gcd of 1 and 1:\n",
      "\tcorrect!\n",
      "gcd of 3 and 5:\n",
      "\tcorrect!\n",
      "gcd of 2 and 4:\n",
      "\tcorrect!\n",
      "gcd of 15 and 5:\n",
      "\tcorrect!\n",
      "gcd of 21 and 15:\n",
      "\tcorrect!\n",
      "passed the test\n"
     ]
    }
   ],
   "source": [
    "import inspect\n",
    "\n",
    "#\n",
    "#  some notes:\n",
    "#     a // b is integer divide https://docs.python.org/3/library/stdtypes.html\n",
    "#     what is gcd(0,a) ?  ( it is a )\n",
    "#     what is gcd(b,a)  ? ( it is gcd(b-a,a) )\n",
    "#\n",
    "\n",
    "def gcd(a,b):\n",
    "    \"\"\"\n",
    "    given integers a, b, returns the gcd of a and b.\n",
    "    \n",
    "    if any of a, b < 0, then take -a or -b, as needed\n",
    "    \"\"\"\n",
    "    \n",
    "    # plan: suppose a>b, gcd(a,b) == gcd(a-kb,b) for any k\n",
    "    # but think of a k large enough to make a smaller than b, but not negative.\n",
    "    # (if it turns out you can make a-kb==0, well then what?)\n",
    "    \n",
    "    # and you can recurse then on the two numbers\n",
    "    \n",
    "    #print(f'\\t{locals()}')\n",
    "    #print(inspect.currentframe().f_back.f_locals)\n",
    "    if a<0:\n",
    "        a = -a\n",
    "    if b<0:\n",
    "        b = -b\n",
    "    if a<b:\n",
    "        a,b = b,a\n",
    "    if b==0:\n",
    "        return a\n",
    "    k = a//b\n",
    "    return gcd(a-k*b,b)\n",
    "\n",
    "\n",
    "test = [(1,1,1),(3,5,1),(2,4,2),(15,5,5),(21,15,3)]\n",
    "\n",
    "def test_gcd(test):\n",
    "    correct = 0\n",
    "    for t in test:\n",
    "        print(f'gcd of {t[0]} and {t[1]}:')\n",
    "        if gcd(t[0],t[1])==t[2]:\n",
    "            correct += 1\n",
    "            print('\\tcorrect!')\n",
    "        else:\n",
    "            print('\\toops!')\n",
    "    return correct==len(test)\n",
    "\n",
    "if test_gcd(test):\n",
    "    print('passed the test')\n",
    "else:\n",
    "    print('fix my broken code')\n",
    "    "
   ]
  },
  {
   "cell_type": "code",
   "execution_count": 78,
   "id": "037d2c70",
   "metadata": {},
   "outputs": [
    {
     "name": "stdout",
     "output_type": "stream",
     "text": [
      "correct!\n"
     ]
    }
   ],
   "source": [
    "def count_the_vowels(s):\n",
    "    \"\"\"\n",
    "    Given a string s, return the count of vowels in s\n",
    "    \"\"\"\n",
    "    count = 0\n",
    "    for a in s:\n",
    "        if a in 'aeiou':\n",
    "            count += 1\n",
    "    return count\n",
    "\n",
    "text = \"The world will little note, nor long remember what we say here, but it can never forget what they did here.\"\n",
    "\n",
    "def test_count_the_vowels():\n",
    "    if count_the_vowels(text)==29:\n",
    "        print(\"correct!\")\n",
    "    else:\n",
    "        print(\"broken!\")\n",
    "\n",
    "test_count_the_vowels()\n",
    "\n"
   ]
  },
  {
   "cell_type": "code",
   "execution_count": 81,
   "id": "95649f1f",
   "metadata": {},
   "outputs": [
    {
     "name": "stdout",
     "output_type": "stream",
     "text": [
      "correct!\n"
     ]
    }
   ],
   "source": [
    "def list_uniq(l_in):\n",
    "    \"\"\"\n",
    "    given a list return a list of the unique values.\n",
    "    do this (perhaps) using sorting (why?)\n",
    "    \"\"\"\n",
    "    \n",
    "    l_s = sorted(l_in)\n",
    "    l_out = [l_s[0]]\n",
    "    for ele in l_s:\n",
    "        if ele != l_out[-1]:\n",
    "            l_out.append(ele)\n",
    "    return l_out\n",
    "\n",
    "def test_list_uniq():\n",
    "    l_in = [3,2,6,4,1,5,4,4,1,3,5,6,9]\n",
    "    ans = [1, 2, 3, 4, 5, 6, 9]\n",
    "    if ans == list_uniq(l_in):\n",
    "        print(\"correct!\")\n",
    "    else:\n",
    "        print(\"broken!\")\n",
    "\n",
    "test_list_uniq()\n"
   ]
  },
  {
   "cell_type": "code",
   "execution_count": 77,
   "id": "326edbff",
   "metadata": {},
   "outputs": [
    {
     "name": "stdout",
     "output_type": "stream",
     "text": [
      "completed succesfully\n",
      "\n",
      "already sorted\n",
      "selection_sort: entered (verbose on)\n"
     ]
    },
    {
     "data": {
      "text/plain": [
       "True"
      ]
     },
     "execution_count": 77,
     "metadata": {},
     "output_type": "execute_result"
    }
   ],
   "source": [
    "\n"
   ]
  },
  {
   "cell_type": "code",
   "execution_count": null,
   "id": "d2769b67",
   "metadata": {},
   "outputs": [],
   "source": []
  }
 ],
 "metadata": {
  "kernelspec": {
   "display_name": "Python 3",
   "language": "python",
   "name": "python3"
  },
  "language_info": {
   "codemirror_mode": {
    "name": "ipython",
    "version": 3
   },
   "file_extension": ".py",
   "mimetype": "text/x-python",
   "name": "python",
   "nbconvert_exporter": "python",
   "pygments_lexer": "ipython3",
   "version": "3.8.10"
  }
 },
 "nbformat": 4,
 "nbformat_minor": 5
}
