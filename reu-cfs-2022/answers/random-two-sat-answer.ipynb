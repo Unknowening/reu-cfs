{
 "cells": [
  {
   "cell_type": "markdown",
   "id": "5e377b16",
   "metadata": {},
   "source": [
    "## Randomized algorithm for 2-SAT\n",
    "\n",
    "<br>\n",
    "University of Miami\n",
    "<br>\n",
    "REU summer 2022\n",
    "<br>\n",
    "Burton Rosenberg.\n",
    "<br>\n",
    "<br>last update: May 30, 2022\n",
    "\n",
    "A boolean formula is a formula over the logical arithmetic of true and false values, \n",
    "with operations AND, OR and NOT.\n",
    "\n",
    "A solution to a boolean formula is a setting of the variables in the formula to \n",
    "true or false so that the computed value of the formula is true. \n",
    "The values assigned is a called a _satisfying assignment_.\n",
    "\n",
    "A boolean formula can be put into _Conjunctive Normal Form_ (CNF). Such of form is the AND of clauses, each clause is the OR of variables or their complements, for instance, \n",
    "\n",
    "$$\n",
    "D = (a \\lor b \\lor \\neg c \\lor e)\\land (c \\lor \\neg b \\lor a) \\land (b) \n",
    "$$\n",
    "\n",
    "The clauses in the formula are, \n",
    "\n",
    "\\begin{eqnarray*}\n",
    "A &=& a \\lor b \\lor \\neg c \\lor e \\\\\n",
    "B &=& c \\lor \\neg b \\lor a \\\\\n",
    "C &=& b \\\\\n",
    "\\end{eqnarray*}\n",
    "\n",
    "We shall represent a SAT instance as a list of clauses, where each clause is a list of pairs, where each pair is a variable name and the integer 0 if the variable appears uncomplement, and 1 if the variable appears complemented.\n",
    "\n",
    "A truth assignment is a dictionary from variable names to the boolean value True or False. The problem of SAT is to find a truth assignment so that the CNF evaluates to true. Such an assignment is called a satisfying assignment. \n",
    "\n",
    "If each clause has exactly 2 variables, the CNF is called an instance of 2-SAT (\"two satisfiability\"). We explore this method of solving 2-SAT:\n",
    "\n",
    "- Start with any truth assignment.\n",
    "- Repeat r times,\n",
    "  - If the truth assignment satisfies the 2-SAT, halt.\n",
    "  - Else pick any false clause, pick one of the two variables in the clause, and negate its value.\n",
    "\n",
    "\n",
    "A bit of math shows that for $n$ variables, with probably 1/2 this will find a satisfying assignment, if one exists, after $2\\,n^2$ variable flips. Hence repeating $2m\\,\\,n^2$ will find a satisfyying assignment, if one exists, with probabilty $1/2^m$.\n",
    "\n",
    "This method does not work for any k-SAT, with k three or larger.\n",
    "\n"
   ]
  },
  {
   "cell_type": "code",
   "execution_count": 1,
   "id": "07006e83",
   "metadata": {},
   "outputs": [],
   "source": [
    "import random\n",
    "\n",
    "class SAT_Instance:\n",
    "    \n",
    "    def __init__(self, cnf_formula):\n",
    "        self.cnf = cnf_formula\n",
    "        self.next_i = 0\n",
    "        self.t_a = self.create_t_a(cnf_formula,False)\n",
    "        \n",
    "    def create_t_a(self,cnf,t):\n",
    "        t_a = {}\n",
    "        for clause in cnf:\n",
    "            for var in clause:\n",
    "                t_a[var[0]] = t\n",
    "        return t_a\n",
    "    \n",
    "    def is_2_sat(self):\n",
    "        for clause in self.cnf:\n",
    "            if len(clause)!=2:\n",
    "                return False\n",
    "        return True\n",
    "\n",
    "    def is_clause_satisfied(self,clause,assign):\n",
    "        t = False\n",
    "        for v in clause:\n",
    "            t1 = assign[v[0]]\n",
    "            if v[1]==1:\n",
    "                t1 = not t1\n",
    "            t = t or t1\n",
    "        return t\n",
    "        \n",
    "    def is_satisfied(self,assign):\n",
    "        for clause in self.cnf:\n",
    "            t = self.is_clause_satisfied(clause,assign)\n",
    "            if not t:\n",
    "                return False\n",
    "        return True\n",
    "        \n",
    "    def change_one(self):\n",
    "        l = [i for i in range(self.next_i,len(self.cnf))]\n",
    "        l += [i for i in range(0,self.next_i)]\n",
    "        for j in l:\n",
    "            if not self.is_clause_satisfied(self.cnf[j],self.t_a):\n",
    "                b = random.randint(0,1)\n",
    "                self.t_a[self.cnf[j][b][0]] = not self.t_a[self.cnf[j][b][0]]\n",
    "                self.next_i = (j+1)%len(self.cnf)\n",
    "                return False\n",
    "        return True\n",
    "    \n",
    "    def random_walk(self,m,init=None,verbose=False):\n",
    "        assert self.is_2_sat()\n",
    "        if init==None:\n",
    "            self.t_a = self.create_t_a(self.cnf,False)\n",
    "        else:\n",
    "            self.t_a in init\n",
    "        self.next_i = 0\n",
    "        j = 0\n",
    "        if verbose:\n",
    "            print(j,self.t_a)\n",
    "        while not self.change_one():\n",
    "            if verbose:\n",
    "                print(j,self.t_a)\n",
    "            j += 1\n",
    "            if j>(2*m*len(self.t_a)**2):\n",
    "                return False\n",
    "        return True\n",
    "        \n",
    "    def __repr__(self):\n",
    "\n",
    "        def p_aux(s, d):\n",
    "            f = False\n",
    "            s += '('\n",
    "            for v in d:\n",
    "                if f:\n",
    "                    s += ' OR '\n",
    "                else:\n",
    "                    f = True\n",
    "                if v[1]==0:\n",
    "                    s += f'{v[0]}'\n",
    "                else:\n",
    "                    s += f'~{v[0]}'\n",
    "            s += f')'\n",
    "            return s\n",
    "        \n",
    "        f = False\n",
    "        s = ''\n",
    "        for d in self.cnf:\n",
    "            if f:\n",
    "                s += ' AND '\n",
    "            else:\n",
    "                f = True\n",
    "            s = p_aux(s, d)\n",
    "        return s\n"
   ]
  },
  {
   "cell_type": "code",
   "execution_count": 2,
   "id": "8fe58d67",
   "metadata": {},
   "outputs": [
    {
     "name": "stdout",
     "output_type": "stream",
     "text": [
      "(x1 OR ~x2) AND (~x1 OR ~x3) AND (x1 OR x2) AND (x4 OR ~x3) AND (x4 OR ~x1)\n",
      "True\n",
      "(~a OR ~b) AND (b OR c)\n",
      "True\n",
      "0 {'a': False, 'b': False, 'c': False}\n",
      "0 {'a': False, 'b': False, 'c': True}\n"
     ]
    },
    {
     "data": {
      "text/plain": [
       "True"
      ]
     },
     "execution_count": 2,
     "metadata": {},
     "output_type": "execute_result"
    }
   ],
   "source": [
    "\n",
    "# examples\n",
    "\n",
    "eqn_7_2 = [[('x1',0),('x2',1)],\n",
    "           [('x1',1),('x3',1)],\n",
    "           [('x1',0),('x2',0)],\n",
    "           [('x4',0),('x3',1)],\n",
    "           [('x4',0),('x1',1)]]\n",
    "\n",
    "sat_7_2 = SAT_Instance(eqn_7_2)\n",
    "print(sat_7_2)\n",
    "\n",
    "print(sat_7_2.is_satisfied({'x1':True, 'x3': False, 'x4':True, 'x2':False,}))\n",
    "\n",
    "E = [[('a',1),('b',1)],\n",
    "     [('b',0),('c',0)]]\n",
    "\n",
    "e_sat =(SAT_Instance(E))\n",
    "print(e_sat)\n",
    "print(e_sat.is_satisfied({'b':False, 'a':True, 'c':True, 'e':False }))\n",
    "\n",
    "\n",
    "\n",
    "\n",
    "E = [[('a',1),('b',1)],[('b',0),('c',0)]]\n",
    "e_sat =(SAT_Instance(E))\n",
    "assign = {'b':False, 'a':True, 'c':True, 'e':False }\n",
    "\n",
    "e_sat.is_satisfied(assign)\n",
    "e_sat.is_2_sat()\n",
    "e_sat.random_walk(3,verbose=True)\n"
   ]
  },
  {
   "cell_type": "code",
   "execution_count": 3,
   "id": "06721400",
   "metadata": {},
   "outputs": [
    {
     "name": "stdout",
     "output_type": "stream",
     "text": [
      "(x OR y) AND (x OR ~y) AND (~x OR y) AND (~x OR ~y)\n",
      "(x1 OR x1 OR x2) AND (~x1 OR ~x2 OR ~x2) AND (~x1 OR x2 OR x2)\n",
      "{'x1': False, 'x2': False}\n",
      "(a OR b OR ~c OR e) AND (c OR ~b OR a) AND (b)\n",
      "(x1 OR ~x2) AND (~x1 OR ~x3) AND (x1 OR x2) AND (x4 OR ~x3) AND (x4 OR ~x1)\n"
     ]
    }
   ],
   "source": [
    "\n",
    "# examples\n",
    "\n",
    "ex_7_5 = [[('x',0),('y',0)],\n",
    "          [('x',0),('y',1)],\n",
    "          [('x',1),('y',0)],\n",
    "          [('x',1),('y',1)]]\n",
    "\n",
    "print(SAT_Instance(ex_7_5))\n",
    "\n",
    "\n",
    "fig_7_33 = [[('x1',0),('x1',0),('x2',0),],\n",
    "            [('x1',1),('x2',1),('x2',1),],\n",
    "            [('x1',1),('x2',0),('x2',0),],]\n",
    "\n",
    "sat_7_33 = SAT_Instance(fig_7_33)\n",
    "print(sat_7_33,)\n",
    "print(sat_7_33.t_a)\n",
    "\n",
    "A = [('a',0),('b',0),('c',1),('e',0)]\n",
    "B = [('c',0),('b',1),('a',0)]\n",
    "C = [('b',0)]\n",
    "\n",
    "D = [A,B,C]\n",
    "print(SAT_Instance(D))\n",
    "\n",
    "eqn_7_2 = [[('x1',0),('x2',1)],[('x1',1),('x3',1)],[('x1',0),('x2',0)],[('x4',0),('x3',1)],[('x4',0),('x1',1)]]\n",
    "sat_7_2 = SAT_Instance(eqn_7_2)\n",
    "print(sat_7_2)"
   ]
  },
  {
   "cell_type": "code",
   "execution_count": 4,
   "id": "8b887f98",
   "metadata": {},
   "outputs": [
    {
     "name": "stdout",
     "output_type": "stream",
     "text": [
      "0 {'x1': False, 'x2': False, 'x3': False, 'x4': False}\n",
      "0 {'x1': True, 'x2': False, 'x3': False, 'x4': False}\n",
      "1 {'x1': False, 'x2': False, 'x3': False, 'x4': False}\n",
      "2 {'x1': True, 'x2': False, 'x3': False, 'x4': False}\n",
      "3 {'x1': True, 'x2': False, 'x3': False, 'x4': True}\n"
     ]
    },
    {
     "data": {
      "text/plain": [
       "True"
      ]
     },
     "execution_count": 4,
     "metadata": {},
     "output_type": "execute_result"
    }
   ],
   "source": [
    "sat_7_2.random_walk(3,verbose=True)"
   ]
  },
  {
   "cell_type": "code",
   "execution_count": 5,
   "id": "9fd57645",
   "metadata": {},
   "outputs": [
    {
     "data": {
      "text/plain": [
       "True"
      ]
     },
     "execution_count": 5,
     "metadata": {},
     "output_type": "execute_result"
    }
   ],
   "source": [
    "sat_7_2.is_satisfied(sat_7_2.t_a)"
   ]
  },
  {
   "cell_type": "code",
   "execution_count": 6,
   "id": "2f2e6f45",
   "metadata": {},
   "outputs": [],
   "source": [
    "r = [[('x1',0),('x2',1)],[('x1',1),('x3',1)],[('x1',0),('x2',0)],[('x4',0),('x3',1)],[('x4',0),('x1',1)],\n",
    "[('x5',0),('x6',1)],[('x1',0),('x4',1)],[('x7',0),('x3',0)],[('x2',0),('x3',1)],[('x5',0),('x4',1)]]"
   ]
  },
  {
   "cell_type": "code",
   "execution_count": 7,
   "id": "22510179",
   "metadata": {},
   "outputs": [
    {
     "name": "stdout",
     "output_type": "stream",
     "text": [
      "(x1 OR ~x2) AND (~x1 OR ~x3) AND (x1 OR x2) AND (x4 OR ~x3) AND (x4 OR ~x1) AND (x5 OR ~x6) AND (x1 OR ~x4) AND (x7 OR x3) AND (x2 OR ~x3) AND (x5 OR ~x4)\n",
      "0 {'x1': False, 'x2': False, 'x3': False, 'x4': False, 'x5': False, 'x6': False, 'x7': False}\n",
      "0 {'x1': False, 'x2': True, 'x3': False, 'x4': False, 'x5': False, 'x6': False, 'x7': False}\n",
      "1 {'x1': False, 'x2': True, 'x3': True, 'x4': False, 'x5': False, 'x6': False, 'x7': False}\n",
      "2 {'x1': False, 'x2': False, 'x3': True, 'x4': False, 'x5': False, 'x6': False, 'x7': False}\n",
      "3 {'x1': True, 'x2': False, 'x3': True, 'x4': False, 'x5': False, 'x6': False, 'x7': False}\n",
      "4 {'x1': True, 'x2': False, 'x3': True, 'x4': True, 'x5': False, 'x6': False, 'x7': False}\n",
      "5 {'x1': True, 'x2': True, 'x3': True, 'x4': True, 'x5': False, 'x6': False, 'x7': False}\n",
      "6 {'x1': True, 'x2': True, 'x3': True, 'x4': False, 'x5': False, 'x6': False, 'x7': False}\n",
      "7 {'x1': True, 'x2': True, 'x3': False, 'x4': False, 'x5': False, 'x6': False, 'x7': False}\n",
      "8 {'x1': True, 'x2': True, 'x3': False, 'x4': True, 'x5': False, 'x6': False, 'x7': False}\n",
      "9 {'x1': True, 'x2': True, 'x3': True, 'x4': True, 'x5': False, 'x6': False, 'x7': False}\n",
      "10 {'x1': True, 'x2': True, 'x3': True, 'x4': False, 'x5': False, 'x6': False, 'x7': False}\n",
      "11 {'x1': False, 'x2': True, 'x3': True, 'x4': False, 'x5': False, 'x6': False, 'x7': False}\n",
      "12 {'x1': False, 'x2': True, 'x3': True, 'x4': True, 'x5': False, 'x6': False, 'x7': False}\n",
      "13 {'x1': True, 'x2': True, 'x3': True, 'x4': True, 'x5': False, 'x6': False, 'x7': False}\n",
      "14 {'x1': True, 'x2': True, 'x3': True, 'x4': True, 'x5': True, 'x6': False, 'x7': False}\n",
      "15 {'x1': True, 'x2': True, 'x3': False, 'x4': True, 'x5': True, 'x6': False, 'x7': False}\n",
      "16 {'x1': True, 'x2': True, 'x3': True, 'x4': True, 'x5': True, 'x6': False, 'x7': False}\n",
      "17 {'x1': False, 'x2': True, 'x3': True, 'x4': True, 'x5': True, 'x6': False, 'x7': False}\n",
      "18 {'x1': False, 'x2': True, 'x3': True, 'x4': False, 'x5': True, 'x6': False, 'x7': False}\n",
      "19 {'x1': False, 'x2': False, 'x3': True, 'x4': False, 'x5': True, 'x6': False, 'x7': False}\n",
      "20 {'x1': False, 'x2': True, 'x3': True, 'x4': False, 'x5': True, 'x6': False, 'x7': False}\n",
      "21 {'x1': False, 'x2': True, 'x3': False, 'x4': False, 'x5': True, 'x6': False, 'x7': False}\n",
      "22 {'x1': False, 'x2': True, 'x3': True, 'x4': False, 'x5': True, 'x6': False, 'x7': False}\n",
      "23 {'x1': False, 'x2': False, 'x3': True, 'x4': False, 'x5': True, 'x6': False, 'x7': False}\n",
      "24 {'x1': False, 'x2': True, 'x3': True, 'x4': False, 'x5': True, 'x6': False, 'x7': False}\n",
      "25 {'x1': False, 'x2': True, 'x3': True, 'x4': True, 'x5': True, 'x6': False, 'x7': False}\n",
      "26 {'x1': True, 'x2': True, 'x3': True, 'x4': True, 'x5': True, 'x6': False, 'x7': False}\n",
      "27 {'x1': False, 'x2': True, 'x3': True, 'x4': True, 'x5': True, 'x6': False, 'x7': False}\n",
      "28 {'x1': False, 'x2': True, 'x3': True, 'x4': False, 'x5': True, 'x6': False, 'x7': False}\n",
      "29 {'x1': False, 'x2': False, 'x3': True, 'x4': False, 'x5': True, 'x6': False, 'x7': False}\n",
      "30 {'x1': False, 'x2': True, 'x3': True, 'x4': False, 'x5': True, 'x6': False, 'x7': False}\n",
      "31 {'x1': False, 'x2': True, 'x3': False, 'x4': False, 'x5': True, 'x6': False, 'x7': False}\n",
      "32 {'x1': False, 'x2': True, 'x3': False, 'x4': False, 'x5': True, 'x6': False, 'x7': True}\n",
      "33 {'x1': False, 'x2': False, 'x3': False, 'x4': False, 'x5': True, 'x6': False, 'x7': True}\n",
      "34 {'x1': True, 'x2': False, 'x3': False, 'x4': False, 'x5': True, 'x6': False, 'x7': True}\n",
      "35 {'x1': True, 'x2': False, 'x3': False, 'x4': True, 'x5': True, 'x6': False, 'x7': True}\n"
     ]
    },
    {
     "data": {
      "text/plain": [
       "True"
      ]
     },
     "execution_count": 7,
     "metadata": {},
     "output_type": "execute_result"
    }
   ],
   "source": [
    "r_cnf = SAT_Instance(r)\n",
    "print(r_cnf)\n",
    "r_cnf.random_walk(3,verbose=True)"
   ]
  },
  {
   "cell_type": "code",
   "execution_count": 38,
   "id": "bf2a4046",
   "metadata": {},
   "outputs": [
    {
     "name": "stdout",
     "output_type": "stream",
     "text": [
      "(a1 OR b1) AND (~b1 OR c1) AND (~a2 OR b2) AND (b2 OR c2) AND (~c2 OR a2) AND (~a3 OR b3) AND (~b3 OR c3) AND (~c3 OR ~a3) AND (~a1 OR ~b2) AND (~c2 OR a3) AND (c3 OR a1)\n"
     ]
    }
   ],
   "source": [
    "three_three = [[('a1',0),('b1',0)],[('b1',1),('c1',0)],\n",
    "               [('a2',1),('b2',0)],[('b2',0),('c2',0)],[('c2',1),('a2',0)],\n",
    "               [('a3',1),('b3',0)],[('b3',1),('c3',0)],[('c3',1),('a3',1)],\n",
    "               [('a1',1),('b2',1)],[('c2',1),('a3',0)],[('c3',0),('a1',0)]\n",
    "              ]\n",
    "\n",
    "cnf33 = SAT_Instance(three_three)\n",
    "print(cnf33)"
   ]
  },
  {
   "cell_type": "code",
   "execution_count": 39,
   "id": "90c0c908",
   "metadata": {},
   "outputs": [
    {
     "data": {
      "text/plain": [
       "True"
      ]
     },
     "execution_count": 39,
     "metadata": {},
     "output_type": "execute_result"
    }
   ],
   "source": [
    "cnf33.random_walk(3)"
   ]
  },
  {
   "cell_type": "code",
   "execution_count": 40,
   "id": "6a7e7e0e",
   "metadata": {},
   "outputs": [
    {
     "data": {
      "text/plain": [
       "{'a1': False,\n",
       " 'b1': True,\n",
       " 'c1': True,\n",
       " 'a2': False,\n",
       " 'b2': True,\n",
       " 'c2': False,\n",
       " 'a3': False,\n",
       " 'b3': False,\n",
       " 'c3': True}"
      ]
     },
     "execution_count": 40,
     "metadata": {},
     "output_type": "execute_result"
    }
   ],
   "source": [
    "cnf33.t_a\n"
   ]
  },
  {
   "cell_type": "code",
   "execution_count": null,
   "id": "42fac60d",
   "metadata": {},
   "outputs": [],
   "source": []
  }
 ],
 "metadata": {
  "kernelspec": {
   "display_name": "Python 3",
   "language": "python",
   "name": "python3"
  },
  "language_info": {
   "codemirror_mode": {
    "name": "ipython",
    "version": 3
   },
   "file_extension": ".py",
   "mimetype": "text/x-python",
   "name": "python",
   "nbconvert_exporter": "python",
   "pygments_lexer": "ipython3",
   "version": "3.8.10"
  }
 },
 "nbformat": 4,
 "nbformat_minor": 5
}
