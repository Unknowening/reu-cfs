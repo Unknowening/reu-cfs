{
 "cells": [
  {
   "cell_type": "markdown",
   "metadata": {},
   "source": [
    "# My First Python: Boom!\n",
    "\n",
    "**Burton Rosenberg, May 2017**"
   ]
  },
  {
   "cell_type": "markdown",
   "metadata": {},
   "source": [
    "We write several Python programs that counts down from a given integer, to zero, then prints Boom! \n",
    "\n",
    "The goals are to demonstrate the basic syntax of Python, and we rely heavily on the belief that the reader is familiar with programming concepts. \n",
    "\n",
    "The novelty of Python syntax is that it uses indentation to express logical structure. Many languages are very tolerate of white space, and the layout of a program is dictated by what the community feels provides the best readablity. But the computer does not care about that layout. In Python, layout and program structure are one.\n",
    "\n",
    "Python also makes use of the colon \":\" to set aside parts of control statements. Coming from other programming langauges, these differences are important. Python also has tricky rules for assigning scope to variables. \n",
    "\n",
    "We begin with a recursive version of the Boom program, that demonstrates the syntax of function and conditional blocks."
   ]
  },
  {
   "cell_type": "code",
   "execution_count": 1,
   "metadata": {},
   "outputs": [
    {
     "name": "stdout",
     "output_type": "stream",
     "text": [
      "10 9 8 7 6 5 4 3 2 1 0 BOOM!\n"
     ]
    }
   ],
   "source": [
    "\n",
    "def boom_rec(n):\n",
    "    \"\"\"\n",
    "    the boom program, using recursion \n",
    "    \"\"\"\n",
    "    if n>=0 :\n",
    "        print n,\n",
    "        boom_rec(n-1)\n",
    "    else:\n",
    "        print \"BOOM!\"\n",
    "    return\n",
    "\n",
    "boom_rec(10)\n",
    "# boom_rec?"
   ]
  },
  {
   "cell_type": "markdown",
   "metadata": {},
   "source": [
    "To note, the trailing semicolon on each line is a separator, not a terminator. Since the linebreak also separates statements, in this program none of them are needed. When in a cell of a notebook, however, there is a difference between ending a line with a semicolon, and not doing so. Without the semicolon the value returned by the statement is printed; with, that verbosity is suppressed.\n",
    "\n",
    "Also note the triple double quotes. Python provides two sorts of string literals: single and triple quoted strings. Only the triple quoted literal notation can span lines, and the newlines are literally part of the strings. The either style of quote, the single or double qoute, can be used, but the literal must begin and end with the same style of quote. In all strings the backslash is the escape character and must be escaped. In single quoted strings  any quote and any newline must also be escaped.\n",
    "\n",
    "A literal described by a triple quote when the first statement in a module or function is a _DocString_ and is used by help systems to provide information about the module or function.\n",
    "\n",
    "\n",
    "Also demonstated is the use of a trailing comma with the print statement, to suppress newlines.\n",
    "\n",
    "Note that string literals are _immutable_."
   ]
  },
  {
   "cell_type": "code",
   "execution_count": 2,
   "metadata": {},
   "outputs": [
    {
     "name": "stdout",
     "output_type": "stream",
     "text": [
      "x\n"
     ]
    },
    {
     "ename": "TypeError",
     "evalue": "'str' object does not support item assignment",
     "output_type": "error",
     "traceback": [
      "\u001b[0;31m---------------------------------------------------------------------------\u001b[0m",
      "\u001b[0;31mTypeError\u001b[0m                                 Traceback (most recent call last)",
      "\u001b[0;32m<ipython-input-2-b16ea07fe6d6>\u001b[0m in \u001b[0;36m<module>\u001b[0;34m()\u001b[0m\n\u001b[1;32m      1\u001b[0m \u001b[0ma\u001b[0m \u001b[0;34m=\u001b[0m \u001b[0;34m\"abcdx\"\u001b[0m \u001b[0;34m;\u001b[0m\u001b[0;34m\u001b[0m\u001b[0m\n\u001b[1;32m      2\u001b[0m \u001b[0;32mprint\u001b[0m \u001b[0ma\u001b[0m\u001b[0;34m[\u001b[0m\u001b[0;34m-\u001b[0m\u001b[0;36m1\u001b[0m\u001b[0;34m]\u001b[0m \u001b[0;34m;\u001b[0m\u001b[0;34m\u001b[0m\u001b[0m\n\u001b[0;32m----> 3\u001b[0;31m \u001b[0ma\u001b[0m\u001b[0;34m[\u001b[0m\u001b[0;34m-\u001b[0m\u001b[0;36m1\u001b[0m\u001b[0;34m]\u001b[0m \u001b[0;34m=\u001b[0m \u001b[0;34m\"e\"\u001b[0m \u001b[0;34m;\u001b[0m\u001b[0;34m\u001b[0m\u001b[0m\n\u001b[0m",
      "\u001b[0;31mTypeError\u001b[0m: 'str' object does not support item assignment"
     ]
    }
   ],
   "source": [
    "a = \"abcdx\"\n",
    "print a[-1]\n",
    "a[-1] = \"e\"\n"
   ]
  },
  {
   "cell_type": "markdown",
   "metadata": {},
   "source": [
    "\n",
    "Turning to interative solutions. The next box shows a classic solution with the while loop, and a Pythonic solution using iterators. The range function returns an interator, and the for construct repeatedly requests a next-element on the iterator until it is exhausted.\n"
   ]
  },
  {
   "cell_type": "code",
   "execution_count": 3,
   "metadata": {},
   "outputs": [
    {
     "name": "stdout",
     "output_type": "stream",
     "text": [
      "10 9 8 7 6 5 4 3 2 1 0 BOOM!\n"
     ]
    }
   ],
   "source": [
    "def boom_itr(n):\n",
    "    \"\"\"\n",
    "    the boom program, using interation\n",
    "    \"\"\"\n",
    "    for i in range(n,-1,-1):\n",
    "        print i,\n",
    "    print \"BOOM!\"\n",
    "    return\n",
    "\n",
    "boom_itr(10)"
   ]
  },
  {
   "cell_type": "markdown",
   "metadata": {
    "collapsed": true
   },
   "source": [
    "Finally, we can implement boom in OOP style."
   ]
  },
  {
   "cell_type": "code",
   "execution_count": 6,
   "metadata": {},
   "outputs": [
    {
     "name": "stdout",
     "output_type": "stream",
     "text": [
      "10 9 8 7 6 5 4 3 2 1 0 BOOM!\n"
     ]
    }
   ],
   "source": [
    "\n",
    "class Boom:\n",
    "    \"\"\"\n",
    "    the boom program, using classes\n",
    "    \"\"\"\n",
    "    def __init__(self,n):\n",
    "        self.n = n\n",
    "    \n",
    "    def next(self):\n",
    "        if self.n>=0:\n",
    "            print self.n,\n",
    "        else:\n",
    "            print \"BOOM!\"\n",
    "        self.n -= 1\n",
    "        return self.n>=-1\n",
    "\n",
    "boom = Boom(10)\n",
    "while boom.next() : pass\n",
    "      \n",
    "# Boom?"
   ]
  },
  {
   "cell_type": "markdown",
   "metadata": {
    "collapsed": true
   },
   "source": [
    "The Boom program and be even more avant garde using _continuation passing style_ of a Python generator. "
   ]
  },
  {
   "cell_type": "code",
   "execution_count": 9,
   "metadata": {},
   "outputs": [
    {
     "name": "stdout",
     "output_type": "stream",
     "text": [
      "10 9 8 7 6 5 4 3 2 1 0 BOOM!\n"
     ]
    }
   ],
   "source": [
    "\n",
    "def boom_gen(n):\n",
    "    \"\"\"\n",
    "    the boom program, using generators\n",
    "    \"\"\"\n",
    "   while n>=0:\n",
    "        yield n\n",
    "        n -=1\n",
    "    return\n",
    "\n",
    "for i in boom_gen(10): \n",
    "    print i,\n",
    "print \"BOOM!\""
   ]
  },
  {
   "cell_type": "code",
   "execution_count": null,
   "metadata": {
    "collapsed": true
   },
   "outputs": [],
   "source": []
  }
 ],
 "metadata": {
  "kernelspec": {
   "display_name": "Python 3 (ipykernel)",
   "language": "python",
   "name": "python3"
  },
  "language_info": {
   "codemirror_mode": {
    "name": "ipython",
    "version": 3
   },
   "file_extension": ".py",
   "mimetype": "text/x-python",
   "name": "python",
   "nbconvert_exporter": "python",
   "pygments_lexer": "ipython3",
   "version": "3.9.7"
  }
 },
 "nbformat": 4,
 "nbformat_minor": 2
}
