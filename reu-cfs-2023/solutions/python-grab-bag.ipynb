{
 "cells": [
  {
   "cell_type": "markdown",
   "id": "71eb34e6",
   "metadata": {},
   "source": [
    "## Exercises\n",
    "\n",
    "----\n",
    "\n",
    "Burton Rosenberg\n",
    "\n",
    "University of Miami\n",
    "\n",
    "copyright 2023 burton rosenberg all rights reserved\n",
    "\n",
    "\n",
    "----\n",
    "\n",
    "### Table of contents.\n",
    "\n",
    "1. <a href=\"#ex1\">`n_equal_in_list`</a>\n",
    "1. <a href=\"#ex2\">`find_second_smallest`</a>\n",
    "1. <a href=\"#ex3\">`gcd`</a>\n",
    "1. <a href=\"#ex4\">`count_the_vowels`</a>\n",
    "1. <a href=\"#ex5\">`list_uniq`</a>\n",
    "1. <a href=\"#ex6\">`deep_list_copy`</a>\n",
    "1. <a href=\"#ex7\">`Fibonacci`</a>\n",
    "1. <a href=\"#ex8\">`Pascal`</a>\n",
    "    \n",
    "    \n"
   ]
  },
  {
   "cell_type": "markdown",
   "id": "769b97d5",
   "metadata": {},
   "source": [
    "### <a name=\"ex1\">`n_equal_in_list`</a>\n",
    "\n",
    "    "
   ]
  },
  {
   "cell_type": "code",
   "execution_count": 1,
   "id": "90855f92",
   "metadata": {},
   "outputs": [
    {
     "name": "stdout",
     "output_type": "stream",
     "text": [
      "correct!\n",
      "correct!\n",
      "correct!\n",
      "correct!\n"
     ]
    }
   ],
   "source": [
    "\n",
    "def n_equal_in_list(li,n):\n",
    "    count = 0\n",
    "    for i in li:\n",
    "        if i==n:\n",
    "            count += 1\n",
    "    return count\n",
    "\n",
    "def test_n_equal_in_list(tests):\n",
    "    for li, n, ans in tests:\n",
    "        if n_equal_in_list(li,n)==ans:\n",
    "            print('correct!')\n",
    "        else:\n",
    "            print('incorrect!')\n",
    "            \n",
    "tests = [\n",
    "    ([0,1,2,3,1,4,],1,2),([0,1,2,3,1,4,],3,1),\n",
    "    ([3, 3, 3, 3, 3],1,0), ([3, 3, 3, 3, 3],3,5),\n",
    "]\n",
    "\n",
    "test_n_equal_in_list(tests)"
   ]
  },
  {
   "cell_type": "markdown",
   "id": "9e07e63a",
   "metadata": {},
   "source": [
    "### <a name=\"ex2\">`find_second_smallest`</a>\n"
   ]
  },
  {
   "cell_type": "code",
   "execution_count": 2,
   "id": "27abad44",
   "metadata": {},
   "outputs": [
    {
     "name": "stdout",
     "output_type": "stream",
     "text": [
      "correct!\n",
      "correct!\n",
      "correct!\n",
      "correct!\n",
      "correct!\n",
      "correct!\n"
     ]
    }
   ],
   "source": [
    "def find_second_smallest(li):\n",
    "    smallest = min(li)\n",
    "    second_smallest = None\n",
    "    for i in li:\n",
    "        if i>smallest:\n",
    "            if second_smallest == None:\n",
    "                second_smallest = i\n",
    "            if i<second_smallest:\n",
    "                second_smallest = i\n",
    "    return second_smallest\n",
    "\n",
    "def test_find_second_smallest(tests):\n",
    "    for li, ans in tests:\n",
    "        if find_second_smallest(li)==ans:\n",
    "            print('correct!')\n",
    "        else:\n",
    "            print ('incorrect!')\n",
    "            \n",
    "tests = [\n",
    "    ([1,2],2),([1,2,3],2),([3,1,2],2),([2 ,5 ,1, 6, 3, 1],2),\n",
    "    ([3,3,3],None),([1,2,1,2,1,2,],2)\n",
    "]\n",
    "\n",
    "test_find_second_smallest(tests)"
   ]
  },
  {
   "cell_type": "markdown",
   "id": "4e4bfb33",
   "metadata": {},
   "source": [
    "### <a name=\"ex3\">`gcd`</a>\n"
   ]
  },
  {
   "cell_type": "code",
   "execution_count": 3,
   "id": "7b835958",
   "metadata": {},
   "outputs": [
    {
     "name": "stdout",
     "output_type": "stream",
     "text": [
      "(1,1) = 1 correct!\n",
      "(3,1) = 1 correct!\n",
      "(3,2) = 1 correct!\n",
      "(4,2) = 2 correct!\n",
      "(6,3) = 3 correct!\n",
      "(6,4) = 2 correct!\n",
      "(6,5) = 1 correct!\n",
      "(7,3) = 1 correct!\n",
      "(10,3) = 1 correct!\n",
      "(10,4) = 2 correct!\n",
      "(153,68) = 17 correct!\n",
      "(2037,1455) = 291 correct!\n"
     ]
    }
   ],
   "source": [
    "def gcd(a,b):\n",
    "    assert a>0 and b>0\n",
    "    assert a>=b\n",
    "    \n",
    "    while b!=0:\n",
    "        a,b = b, a%b\n",
    "        if b==0:\n",
    "            return a\n",
    "    \n",
    "tests = [(1,1,1),(3,1,1),(3,2,1),(4,2,2),(6,3,3),(6,4,2),(6,5,1),\n",
    "         (7,3,1),(10,3,1),(10,4,2),\n",
    "        (17*9,17*4,17), (97*21,97*15,97*3)\n",
    "        ]\n",
    "\n",
    "def test_gcd(tests):\n",
    "    for a,b,c in tests:\n",
    "        print(f'({a},{b}) = {gcd(a,b)}', end=' ')\n",
    "        if gcd(a,b)==c:\n",
    "            print('correct!')\n",
    "        else:\n",
    "            print('not correct!')\n",
    "        \n",
    "test_gcd(tests)"
   ]
  },
  {
   "cell_type": "markdown",
   "id": "93cc720d",
   "metadata": {},
   "source": [
    "### <a name=\"ex4\">`count_the_vowels`</a>\n"
   ]
  },
  {
   "cell_type": "code",
   "execution_count": 4,
   "id": "dbf0a683",
   "metadata": {},
   "outputs": [
    {
     "name": "stdout",
     "output_type": "stream",
     "text": [
      "correct!\n"
     ]
    }
   ],
   "source": [
    "\n",
    "def count_the_vowels(s):\n",
    "    \"\"\"\n",
    "    Given a string s, return the count of vowels in s\n",
    "    \"\"\"\n",
    "    number_of_spaces = 0 \n",
    "    for c in s:\n",
    "        if c in \"aeiou\":\n",
    "            number_of_spaces = number_of_spaces +1\n",
    "    return number_of_spaces\n",
    "\n",
    "text = \"The world will little note, nor long remember what we say here, but it can never forget what they did here.\"\n",
    "\n",
    "def test_count_the_vowels():\n",
    "    if count_the_vowels(text)==29:\n",
    "        print(\"correct!\")\n",
    "    else:\n",
    "        print(\"broken!\")\n",
    "\n",
    "test_count_the_vowels()\n",
    "\n"
   ]
  },
  {
   "cell_type": "markdown",
   "id": "7fda8919",
   "metadata": {},
   "source": [
    "### <a name=\"ex5\">`list_uniq`</a>\n"
   ]
  },
  {
   "cell_type": "code",
   "execution_count": 5,
   "id": "b8cc1b44",
   "metadata": {},
   "outputs": [
    {
     "name": "stdout",
     "output_type": "stream",
     "text": [
      "correct!\n"
     ]
    }
   ],
   "source": [
    "\n",
    "\n",
    "def list_uniq(l_in):\n",
    "    \"\"\"\n",
    "    given a list return a list of the unique values.\n",
    "    do this (perhaps) using sorting (why?)\n",
    "    \"\"\"\n",
    "    l_out = []\n",
    "    l_in.sort() # mutable, the original list is rearranged\n",
    "    y = l_in[0]\n",
    "    l_out.append(y)\n",
    "    \n",
    "    for x in l_in:\n",
    "            if y!=x:\n",
    "                l_out.append(x)\n",
    "            y = x\n",
    "    return l_out    \n",
    "\n",
    "def test_list_uniq():\n",
    "    l_in = [3,2,6,4,1,5,4,4,1,3,5,6,9]\n",
    "    ans = [1, 2, 3, 4, 5, 6, 9]\n",
    "    if ans == list_uniq(l_in):\n",
    "        print(\"correct!\")\n",
    "    else:\n",
    "        print(\"broken!\")\n",
    "\n",
    "test_list_uniq()"
   ]
  },
  {
   "cell_type": "markdown",
   "id": "fb5add4d",
   "metadata": {},
   "source": [
    "### <a name=\"ex6\">`deep_list_copy`</a>\n"
   ]
  },
  {
   "cell_type": "code",
   "execution_count": 6,
   "id": "2056341e",
   "metadata": {},
   "outputs": [
    {
     "name": "stdout",
     "output_type": "stream",
     "text": [
      "maybe correct!\n",
      "maybe correct!\n",
      "maybe correct!\n"
     ]
    }
   ],
   "source": [
    "def deep_list_copy(l):\n",
    "    \n",
    "    list_type = type([])\n",
    "    \n",
    "    def deep_list_copy_x(l):\n",
    "        l_c = l[:]\n",
    "        for i in range(len(l_c)):\n",
    "            if isinstance(l_c[i],list_type):\n",
    "                l_c[i] = deep_list_copy_x(l_c[i])\n",
    "        return l_c\n",
    "    \n",
    "    assert isinstance(l,list_type)\n",
    "    return deep_list_copy_x(l)\n",
    "\n",
    "\n",
    "def test_deep_list_copy(tests):\n",
    "    for li in tests:\n",
    "        li_c = deep_list_copy(li)\n",
    "        if li==li_c:\n",
    "            print('maybe correct!')\n",
    "        else:\n",
    "            print('definitely not correct!')\n",
    "\n",
    "\n",
    "tests = [\n",
    "    [1,2,3], [[1,2],['a','b'],3], [[1,['a','b'],3],'c',['d',[4,'e']]]\n",
    "]\n",
    "\n",
    "test_deep_list_copy(tests)            "
   ]
  },
  {
   "cell_type": "markdown",
   "id": "45725f9f",
   "metadata": {},
   "source": [
    "### <a name=\"ex7\">`Fibonacci`</a>\n",
    "\n",
    "    "
   ]
  },
  {
   "cell_type": "code",
   "execution_count": 7,
   "id": "e507f074",
   "metadata": {},
   "outputs": [
    {
     "name": "stdout",
     "output_type": "stream",
     "text": [
      "0: 1\n",
      "1: 1\n",
      "2: 2\n",
      "3: 3\n",
      "4: 5\n",
      "5: 8\n",
      "6: 13\n",
      "7: 21\n",
      "8: 34\n",
      "9: 55\n"
     ]
    }
   ],
   "source": [
    "class Fibonacci:\n",
    "    \n",
    "    def __init__(self):\n",
    "        self.a, self.b = None, None\n",
    "        \n",
    "    def next(self):\n",
    "        if self.a == None:\n",
    "            self.a = 1\n",
    "            return 1\n",
    "        if self.b == None:\n",
    "            self.b = 1\n",
    "            return 1\n",
    "        self.a, self.b = self.b, self.a+self.b\n",
    "        return self.b\n",
    "    \n",
    "def print_some_fibs(n):\n",
    "    fib = Fibonacci()\n",
    "    for i in range(n):\n",
    "        print(f'{i}: {fib.next()}')\n",
    "    \n",
    "n = 10\n",
    "print_some_fibs(n)\n"
   ]
  },
  {
   "cell_type": "markdown",
   "id": "207024b9",
   "metadata": {},
   "source": [
    "### <a name=\"ex8\">`Pacal`</a>\n"
   ]
  },
  {
   "cell_type": "code",
   "execution_count": 8,
   "id": "3ff29ea5",
   "metadata": {},
   "outputs": [
    {
     "name": "stdout",
     "output_type": "stream",
     "text": [
      "0: [1]\n",
      "1: [1, 1]\n",
      "2: [1, 2, 1]\n",
      "3: [1, 3, 3, 1]\n",
      "4: [1, 4, 6, 4, 1]\n",
      "5: [1, 5, 10, 10, 5, 1]\n",
      "6: [1, 6, 15, 20, 15, 6, 1]\n",
      "7: [1, 7, 21, 35, 35, 21, 7, 1]\n",
      "8: [1, 8, 28, 56, 70, 56, 28, 8, 1]\n",
      "9: [1, 9, 36, 84, 126, 126, 84, 36, 9, 1]\n"
     ]
    }
   ],
   "source": [
    "class Pascal:\n",
    "    \n",
    "    def __init__(self):\n",
    "        self.row = []\n",
    "        \n",
    "    def next(self):\n",
    "        new_row = [1]*(len(self.row)+1)\n",
    "        for i in range(len(self.row)-1):\n",
    "            new_row[i+1] = self.row[i] + self.row[i+1]\n",
    "        new_row[len(new_row)-1] = 1\n",
    "        self.row = new_row\n",
    "        return self.row\n",
    "    \n",
    "def print_some_rows(n):\n",
    "    pascal = Pascal()\n",
    "    for i in range(n):\n",
    "        print(f'{i}: {pascal.next()}')\n",
    "        \n",
    "n = 10\n",
    "print_some_rows(n)"
   ]
  },
  {
   "cell_type": "code",
   "execution_count": null,
   "id": "47120139",
   "metadata": {},
   "outputs": [],
   "source": []
  },
  {
   "cell_type": "code",
   "execution_count": null,
   "id": "f20e5f28",
   "metadata": {},
   "outputs": [],
   "source": []
  },
  {
   "cell_type": "code",
   "execution_count": null,
   "id": "c9c1a460",
   "metadata": {},
   "outputs": [],
   "source": []
  }
 ],
 "metadata": {
  "kernelspec": {
   "display_name": "Python 3 (ipykernel)",
   "language": "python",
   "name": "python3"
  },
  "language_info": {
   "codemirror_mode": {
    "name": "ipython",
    "version": 3
   },
   "file_extension": ".py",
   "mimetype": "text/x-python",
   "name": "python",
   "nbconvert_exporter": "python",
   "pygments_lexer": "ipython3",
   "version": "3.9.7"
  }
 },
 "nbformat": 4,
 "nbformat_minor": 5
}
