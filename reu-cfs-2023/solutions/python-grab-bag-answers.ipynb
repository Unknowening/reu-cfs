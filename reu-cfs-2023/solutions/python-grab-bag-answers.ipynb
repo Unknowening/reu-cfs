{
 "cells": [
  {
   "cell_type": "markdown",
   "id": "d2c6d3cb",
   "metadata": {},
   "source": [
    "## Exercises\n",
    "\n",
    "----\n",
    "\n",
    "Burton Rosenberg\n",
    "\n",
    "University of Miami\n",
    "\n",
    "copyright 2023 burton rosenberg all rights reserved\n",
    "\n",
    "\n",
    "----\n",
    "\n",
    "### Table of contents.\n",
    "\n",
    "1. <a href=\"#ex1\">`n_equal_in_list`</a>\n",
    "1. <a href=\"#ex2\">`find_second_smallest`</a>\n",
    "1. <a href=\"#ex3\">`gcd`</a>\n",
    "1. <a href=\"#ex4\">`count_the_vowels`</a>\n",
    "1. <a href=\"#ex5\">`list_uniq`</a>\n",
    "1. <a href=\"#ex6\">`deep_list_copy`</a>\n",
    "1. <a href=\"#ex7\">`Fibonacci`</a>\n",
    "1. <a href=\"#ex8\">`Pascal`</a>\n",
    "    \n",
    "    \n"
   ]
  },
  {
   "cell_type": "markdown",
   "id": "06b2268f",
   "metadata": {},
   "source": [
    "### <a name=\"ex1\">`n_equal_in_list`</a>\n",
    "\n",
    "Given a list `l` of integers, and an integer `n`, count the number of times `n` is in `l`, and return that value.\n",
    "\n",
    "_Hint:_ Set a counter to zero. Use a for construct to go through the list checking each element. Increment the counter and return it once the list has been all checked.\n",
    "    "
   ]
  },
  {
   "cell_type": "code",
   "execution_count": 9,
   "id": "bc828832",
   "metadata": {},
   "outputs": [
    {
     "name": "stdout",
     "output_type": "stream",
     "text": [
      "correct!\n",
      "correct!\n",
      "correct!\n",
      "correct!\n"
     ]
    }
   ],
   "source": [
    "\n",
    "def n_equal_in_list(li,n):\n",
    "    count = 0\n",
    "    for i in li:\n",
    "        if i==n:\n",
    "            count += 1\n",
    "    return count\n",
    "\n",
    "def test_n_equal_in_list(tests):\n",
    "    for li, n, ans in tests:\n",
    "        if n_equal_in_list(li,n)==ans:\n",
    "            print('correct!')\n",
    "        else:\n",
    "            print('incorrect!')\n",
    "            \n",
    "tests = [\n",
    "    ([0,1,2,3,1,4,],1,2),([0,1,2,3,1,4,],3,1),\n",
    "    ([3, 3, 3, 3, 3],1,0), ([3, 3, 3, 3, 3],3,5),\n",
    "]\n",
    "\n",
    "test_n_equal_in_list(tests)"
   ]
  },
  {
   "cell_type": "markdown",
   "id": "32ebfc86",
   "metadata": {},
   "source": [
    "### <a name=\"ex2\">`find_second_smallest`</a>\n",
    "\n",
    "Return the second smallest value in a list of integers, or None if there is only one value in the list. In a list such as `[1,1]` the answer is None, not 1. \n",
    "\n",
    "_Hint_: You can use the builtin `min` to find the smallest. Then go through the list skipping over elements equal to the minium. There will be two cases. The first value in the list not equal to the minimum. This will change the candidate second smallest from `None` to that value. The other case is when the candidate is an integer, and a new integer is being considered. "
   ]
  },
  {
   "cell_type": "code",
   "execution_count": 2,
   "id": "7753b4c0",
   "metadata": {},
   "outputs": [
    {
     "name": "stdout",
     "output_type": "stream",
     "text": [
      "correct!\n",
      "correct!\n",
      "correct!\n",
      "correct!\n",
      "correct!\n",
      "correct!\n"
     ]
    }
   ],
   "source": [
    "def find_second_smallest(li):\n",
    "    smallest = min(li)\n",
    "    second_smallest = None\n",
    "    for i in li:\n",
    "        if i>smallest:\n",
    "            if second_smallest == None:\n",
    "                second_smallest = i\n",
    "            if i<second_smallest:\n",
    "                second_smallest = i\n",
    "    return second_smallest\n",
    "\n",
    "def test_find_second_smallest(tests):\n",
    "    for li, ans in tests:\n",
    "        if find_second_smallest(li)==ans:\n",
    "            print('correct!')\n",
    "        else:\n",
    "            print ('incorrect!')\n",
    "            \n",
    "tests = [\n",
    "    ([1,2],2),([1,2,3],2),([3,1,2],2),([2 ,5 ,1, 6, 3, 1],2),\n",
    "    ([3,3,3],None),([1,2,1,2,1,2,],2)\n",
    "]\n",
    "\n",
    "test_find_second_smallest(tests)"
   ]
  },
  {
   "cell_type": "markdown",
   "id": "4a1c6675",
   "metadata": {},
   "source": [
    "### <a name=\"ex3\">`gcd`</a>\n",
    "\n",
    "Given to positive integers, calculate and return their Greatst Common Divisor. Assert statements will allow you to assume (else the assert will stop the execution) that the values give are positive and the first is at least as large as the second.\n",
    "\n",
    "The Euclidean algorithm is used for this. It is a fact that the gcd of a and b is also the gcd of b and a%b. This is repeated until a%b is zero, then the gcd is b. \n",
    "\n"
   ]
  },
  {
   "cell_type": "code",
   "execution_count": 10,
   "id": "37265448",
   "metadata": {},
   "outputs": [
    {
     "name": "stdout",
     "output_type": "stream",
     "text": [
      "(1,1) = 1 correct!\n",
      "(3,1) = 1 correct!\n",
      "(3,2) = 1 correct!\n",
      "(4,2) = 2 correct!\n",
      "(6,3) = 3 correct!\n",
      "(6,4) = 2 correct!\n",
      "(6,5) = 1 correct!\n",
      "(7,3) = 1 correct!\n",
      "(10,3) = 1 correct!\n",
      "(10,4) = 2 correct!\n",
      "(153,68) = 17 correct!\n",
      "(2037,1455) = 291 correct!\n"
     ]
    }
   ],
   "source": [
    "def gcd(a,b):\n",
    "    assert a>0 and b>0\n",
    "    assert a>=b\n",
    "    \n",
    "    while b!=0:\n",
    "        a,b = b, a%b\n",
    "        if b==0:\n",
    "            return a\n",
    "    \n",
    "tests = [(1,1,1),(3,1,1),(3,2,1),(4,2,2),(6,3,3),(6,4,2),(6,5,1),\n",
    "         (7,3,1),(10,3,1),(10,4,2),\n",
    "        (17*9,17*4,17), (97*21,97*15,97*3)\n",
    "        ]\n",
    "\n",
    "def test_gcd(tests):\n",
    "    for a,b,c in tests:\n",
    "        print(f'({a},{b}) = {gcd(a,b)}', end=' ')\n",
    "        if gcd(a,b)==c:\n",
    "            print('correct!')\n",
    "        else:\n",
    "            print('not correct!')\n",
    "        \n",
    "test_gcd(tests)"
   ]
  },
  {
   "cell_type": "markdown",
   "id": "3a2f3269",
   "metadata": {},
   "source": [
    "### <a name=\"ex4\">`count_the_vowels`</a>\n",
    "\n",
    "Given a string, count and return the number of vowels in the string. This is an exercise in using iteration on a string, and finding whether a value in one iterable is in another.\n",
    "\n"
   ]
  },
  {
   "cell_type": "code",
   "execution_count": 11,
   "id": "edde8374",
   "metadata": {},
   "outputs": [
    {
     "name": "stdout",
     "output_type": "stream",
     "text": [
      "correct!\n"
     ]
    }
   ],
   "source": [
    "\n",
    "def count_the_vowels(s):\n",
    "    \"\"\"\n",
    "    Given a string s, return the count of vowels in s\n",
    "    \"\"\"\n",
    "    number_of_spaces = 0 \n",
    "    for c in s:\n",
    "        if c in \"aeiou\":\n",
    "            number_of_spaces = number_of_spaces +1\n",
    "    return number_of_spaces\n",
    "\n",
    "text = \"The world will little note, nor long remember what we say here, but it can never forget what they did here.\"\n",
    "\n",
    "def test_count_the_vowels():\n",
    "    if count_the_vowels(text)==29:\n",
    "        print(\"correct!\")\n",
    "    else:\n",
    "        print(\"broken!\")\n",
    "\n",
    "test_count_the_vowels()\n",
    "\n"
   ]
  },
  {
   "cell_type": "markdown",
   "id": "32478046",
   "metadata": {},
   "source": [
    "### <a name=\"ex5\">`list_uniq`</a>\n",
    "\n",
    "Give a list of numbers, return true if no number appears more than once.\n",
    "\n",
    "_Hint:_ Sort the list, so that repeats are easy to find."
   ]
  },
  {
   "cell_type": "code",
   "execution_count": 5,
   "id": "103a688c",
   "metadata": {},
   "outputs": [
    {
     "name": "stdout",
     "output_type": "stream",
     "text": [
      "correct!\n"
     ]
    }
   ],
   "source": [
    "\n",
    "\n",
    "def list_uniq(l_in):\n",
    "    \"\"\"\n",
    "    given a list return a list of the unique values.\n",
    "    do this (perhaps) using sorting (why?)\n",
    "    \"\"\"\n",
    "    l_out = []\n",
    "    l_in.sort() # mutable, the original list is rearranged\n",
    "    y = l_in[0]\n",
    "    l_out.append(y)\n",
    "    \n",
    "    for x in l_in:\n",
    "            if y!=x:\n",
    "                l_out.append(x)\n",
    "            y = x\n",
    "    return l_out    \n",
    "\n",
    "def test_list_uniq():\n",
    "    l_in = [3,2,6,4,1,5,4,4,1,3,5,6,9]\n",
    "    ans = [1, 2, 3, 4, 5, 6, 9]\n",
    "    if ans == list_uniq(l_in):\n",
    "        print(\"correct!\")\n",
    "    else:\n",
    "        print(\"broken!\")\n",
    "\n",
    "test_list_uniq()"
   ]
  },
  {
   "cell_type": "markdown",
   "id": "bfad044f",
   "metadata": {},
   "source": [
    "### <a name=\"ex6\">`deep_list_copy`</a>\n",
    "\n",
    "Given a list, make and return a deep copy. \n",
    "\n",
    "_Hint:_ Use recursion. Use `[:]` to make a shallow copy, then go element by element in the shallow copy to replace element that is a list with a deep copied list. That can be done by the procedure calling itself.\n",
    "\n",
    "In the starter code, I use a function inside a function. The inside function is recursive, the outside is not. I have also included the code that checks if an object is a list. "
   ]
  },
  {
   "cell_type": "code",
   "execution_count": 6,
   "id": "46e8e30b",
   "metadata": {},
   "outputs": [
    {
     "name": "stdout",
     "output_type": "stream",
     "text": [
      "maybe correct!\n",
      "maybe correct!\n",
      "maybe correct!\n"
     ]
    }
   ],
   "source": [
    "def deep_list_copy(l):\n",
    "    \n",
    "    list_type = type([])\n",
    "    \n",
    "    def deep_list_copy_x(l):\n",
    "        l_c = l[:]\n",
    "        for i in range(len(l_c)):\n",
    "            if isinstance(l_c[i],list_type):\n",
    "                l_c[i] = deep_list_copy_x(l_c[i])\n",
    "        return l_c\n",
    "    \n",
    "    assert isinstance(l,list_type)\n",
    "    return deep_list_copy_x(l)\n",
    "\n",
    "\n",
    "def test_deep_list_copy(tests):\n",
    "    for li in tests:\n",
    "        li_c = deep_list_copy(li)\n",
    "        if li==li_c:\n",
    "            print('maybe correct!')\n",
    "        else:\n",
    "            print('definitely not correct!')\n",
    "\n",
    "\n",
    "tests = [\n",
    "    [1,2,3], [[1,2],['a','b'],3], [[1,['a','b'],3],'c',['d',[4,'e']]]\n",
    "]\n",
    "\n",
    "test_deep_list_copy(tests)            "
   ]
  },
  {
   "cell_type": "markdown",
   "id": "34b30ebd",
   "metadata": {},
   "source": [
    "### <a name=\"ex7\">`Fibonacci`</a>\n",
    "\n",
    "Calculate consecutive fibonacci numbers. This exercise asks you do this as an object. The object contains the previous two values in the fibonacci series. Each call to `next` updates the two values. \n",
    "\n",
    "It might be a bit tricky for the first couple values. I suggest having the two values start as `None`, and the first two calls notice this and begin the intialization of 1, 1. The third call is the first that does an actually addition, replacing the two numbers with 1,2.  \n",
    "The test output should be:\n",
    "<pre>\n",
    "1: 1\n",
    "2: 2\n",
    "3: 3\n",
    "4: 5\n",
    "5: 8\n",
    "6: 13\n",
    "7: 21\n",
    "8: 34\n",
    "9: 55\n",
    "</pre>"
   ]
  },
  {
   "cell_type": "code",
   "execution_count": 7,
   "id": "16c5adc3",
   "metadata": {},
   "outputs": [
    {
     "name": "stdout",
     "output_type": "stream",
     "text": [
      "0: 1\n",
      "1: 1\n",
      "2: 2\n",
      "3: 3\n",
      "4: 5\n",
      "5: 8\n",
      "6: 13\n",
      "7: 21\n",
      "8: 34\n",
      "9: 55\n"
     ]
    }
   ],
   "source": [
    "class Fibonacci:\n",
    "    \n",
    "    def __init__(self):\n",
    "        self.a, self.b = None, None\n",
    "        \n",
    "    def next(self):\n",
    "        if self.a == None:\n",
    "            self.a = 1\n",
    "            return 1\n",
    "        if self.b == None:\n",
    "            self.b = 1\n",
    "            return 1\n",
    "        self.a, self.b = self.b, self.a+self.b\n",
    "        return self.b\n",
    "    \n",
    "def print_some_fibs(n):\n",
    "    fib = Fibonacci()\n",
    "    for i in range(n):\n",
    "        print(f'{i}: {fib.next()}')\n",
    "    \n",
    "n = 10\n",
    "print_some_fibs(n)\n"
   ]
  },
  {
   "cell_type": "markdown",
   "id": "0ccee08a",
   "metadata": {},
   "source": [
    "### <a name=\"ex8\">`Pacal`</a>\n",
    "\n",
    "Print out rows of the Pascal triangle. This is done as an object that keeps the current row generated. The the test out if capture, and you can see that these rows look like.\n",
    "\n",
    "This is a slightly more complicated exercise than the previous, in that the item you keep for each iteration is a list, the row of the Pascal's triangle. You can begin with the fictious -1 row of an 0-length list.\n",
    "\n",
    "Each call to `next` creates a list on longer and fills it in with reference to the current row, making the result the new current row. \n",
    "\n",
    "\n",
    "<pre>\n",
    "0: [1]\n",
    "1: [1, 1]\n",
    "2: [1, 2, 1]\n",
    "3: [1, 3, 3, 1]\n",
    "4: [1, 4, 6, 4, 1]\n",
    "5: [1, 5, 10, 10, 5, 1]\n",
    "6: [1, 6, 15, 20, 15, 6, 1]\n",
    "7: [1, 7, 21, 35, 35, 21, 7, 1]\n",
    "8: [1, 8, 28, 56, 70, 56, 28, 8, 1]\n",
    "9: [1, 9, 36, 84, 126, 126, 84, 36, 9, 1]\n",
    "</pre>"
   ]
  },
  {
   "cell_type": "code",
   "execution_count": 8,
   "id": "bd354985",
   "metadata": {},
   "outputs": [
    {
     "name": "stdout",
     "output_type": "stream",
     "text": [
      "0: [1]\n",
      "1: [1, 1]\n",
      "2: [1, 2, 1]\n",
      "3: [1, 3, 3, 1]\n",
      "4: [1, 4, 6, 4, 1]\n",
      "5: [1, 5, 10, 10, 5, 1]\n",
      "6: [1, 6, 15, 20, 15, 6, 1]\n",
      "7: [1, 7, 21, 35, 35, 21, 7, 1]\n",
      "8: [1, 8, 28, 56, 70, 56, 28, 8, 1]\n",
      "9: [1, 9, 36, 84, 126, 126, 84, 36, 9, 1]\n"
     ]
    }
   ],
   "source": [
    "class Pascal:\n",
    "    \n",
    "    def __init__(self):\n",
    "        self.row = []\n",
    "        \n",
    "    def next(self):\n",
    "        new_row = [1]*(len(self.row)+1)\n",
    "        for i in range(len(self.row)-1):\n",
    "            new_row[i+1] = self.row[i] + self.row[i+1]\n",
    "        new_row[len(new_row)-1] = 1\n",
    "        self.row = new_row\n",
    "        return self.row\n",
    "    \n",
    "def print_some_rows(n):\n",
    "    pascal = Pascal()\n",
    "    for i in range(n):\n",
    "        print(f'{i}: {pascal.next()}')\n",
    "        \n",
    "n = 10\n",
    "print_some_rows(n)"
   ]
  },
  {
   "cell_type": "code",
   "execution_count": null,
   "id": "a4ca3382",
   "metadata": {},
   "outputs": [],
   "source": []
  },
  {
   "cell_type": "code",
   "execution_count": null,
   "id": "38911464",
   "metadata": {},
   "outputs": [],
   "source": []
  },
  {
   "cell_type": "code",
   "execution_count": null,
   "id": "e9a91c4f",
   "metadata": {},
   "outputs": [],
   "source": []
  }
 ],
 "metadata": {
  "kernelspec": {
   "display_name": "Python 3 (ipykernel)",
   "language": "python",
   "name": "python3"
  },
  "language_info": {
   "codemirror_mode": {
    "name": "ipython",
    "version": 3
   },
   "file_extension": ".py",
   "mimetype": "text/x-python",
   "name": "python",
   "nbconvert_exporter": "python",
   "pygments_lexer": "ipython3",
   "version": "3.9.7"
  }
 },
 "nbformat": 4,
 "nbformat_minor": 5
}
